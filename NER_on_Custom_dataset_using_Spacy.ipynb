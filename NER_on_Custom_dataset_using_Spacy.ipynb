{
  "nbformat": 4,
  "nbformat_minor": 0,
  "metadata": {
    "colab": {
      "name": "NER on Custom dataset using Spacy.ipynb",
      "provenance": [],
      "collapsed_sections": [],
      "mount_file_id": "10dGM4Z8iwVSoJo69j6vg__6XUvjj4aTA",
      "authorship_tag": "ABX9TyP6xUXvkLzH7jLRooVZiyxj"
    },
    "kernelspec": {
      "name": "python3",
      "display_name": "Python 3"
    },
    "accelerator": "GPU"
  },
  "cells": [
    {
      "cell_type": "code",
      "metadata": {
        "colab": {
          "base_uri": "https://localhost:8080/"
        },
        "id": "Y1SuCWmiKVDI",
        "outputId": "be81dbbb-eead-4856-a6aa-7d37c697d9a0"
      },
      "source": [
        "!pwd\r\n"
      ],
      "execution_count": 9,
      "outputs": [
        {
          "output_type": "stream",
          "text": [
            "/bin/bash: line 0: cd: too many arguments\n",
            "/content\n"
          ],
          "name": "stdout"
        }
      ]
    },
    {
      "cell_type": "code",
      "metadata": {
        "colab": {
          "base_uri": "https://localhost:8080/"
        },
        "id": "bzWRh2n80BgE",
        "outputId": "3ba30f49-d9b5-4c3e-d998-8da64a085316"
      },
      "source": [
        "cd drive/"
      ],
      "execution_count": 11,
      "outputs": [
        {
          "output_type": "stream",
          "text": [
            "/content/drive\n"
          ],
          "name": "stdout"
        }
      ]
    },
    {
      "cell_type": "code",
      "metadata": {
        "colab": {
          "base_uri": "https://localhost:8080/"
        },
        "id": "wLbBwWqr0IcC",
        "outputId": "9d8c1742-ec28-4164-de17-97922660923a"
      },
      "source": [
        "cd MyDrive/"
      ],
      "execution_count": 12,
      "outputs": [
        {
          "output_type": "stream",
          "text": [
            "/content/drive/MyDrive\n"
          ],
          "name": "stdout"
        }
      ]
    },
    {
      "cell_type": "code",
      "metadata": {
        "colab": {
          "base_uri": "https://localhost:8080/"
        },
        "id": "df1EV7aP0Lry",
        "outputId": "05a1b00d-2cdd-42b2-fb1a-ad72e95b4d6e"
      },
      "source": [
        "cd ner/ner_TF/"
      ],
      "execution_count": 13,
      "outputs": [
        {
          "output_type": "stream",
          "text": [
            "/content/drive/MyDrive/ner/ner_TF\n"
          ],
          "name": "stdout"
        }
      ]
    },
    {
      "cell_type": "code",
      "metadata": {
        "colab": {
          "base_uri": "https://localhost:8080/"
        },
        "id": "wKSYcjGeJ-SE",
        "outputId": "3a28ce40-5209-47da-c5f7-9ac3d4894154"
      },
      "source": [
        "import sys\r\n",
        "!{sys.executable} -m pip install spacy # !{sys.executable} ensures package installation in conda env\r\n"
      ],
      "execution_count": 17,
      "outputs": [
        {
          "output_type": "stream",
          "text": [
            "Requirement already satisfied: spacy in /usr/local/lib/python3.7/dist-packages (2.2.4)\n",
            "Requirement already satisfied: thinc==7.4.0 in /usr/local/lib/python3.7/dist-packages (from spacy) (7.4.0)\n",
            "Requirement already satisfied: murmurhash<1.1.0,>=0.28.0 in /usr/local/lib/python3.7/dist-packages (from spacy) (1.0.5)\n",
            "Requirement already satisfied: numpy>=1.15.0 in /usr/local/lib/python3.7/dist-packages (from spacy) (1.19.5)\n",
            "Requirement already satisfied: requests<3.0.0,>=2.13.0 in /usr/local/lib/python3.7/dist-packages (from spacy) (2.23.0)\n",
            "Requirement already satisfied: srsly<1.1.0,>=1.0.2 in /usr/local/lib/python3.7/dist-packages (from spacy) (1.0.5)\n",
            "Requirement already satisfied: setuptools in /usr/local/lib/python3.7/dist-packages (from spacy) (53.0.0)\n",
            "Requirement already satisfied: plac<1.2.0,>=0.9.6 in /usr/local/lib/python3.7/dist-packages (from spacy) (1.1.3)\n",
            "Requirement already satisfied: catalogue<1.1.0,>=0.0.7 in /usr/local/lib/python3.7/dist-packages (from spacy) (1.0.0)\n",
            "Requirement already satisfied: cymem<2.1.0,>=2.0.2 in /usr/local/lib/python3.7/dist-packages (from spacy) (2.0.5)\n",
            "Requirement already satisfied: wasabi<1.1.0,>=0.4.0 in /usr/local/lib/python3.7/dist-packages (from spacy) (0.8.2)\n",
            "Requirement already satisfied: tqdm<5.0.0,>=4.38.0 in /usr/local/lib/python3.7/dist-packages (from spacy) (4.41.1)\n",
            "Requirement already satisfied: blis<0.5.0,>=0.4.0 in /usr/local/lib/python3.7/dist-packages (from spacy) (0.4.1)\n",
            "Requirement already satisfied: preshed<3.1.0,>=3.0.2 in /usr/local/lib/python3.7/dist-packages (from spacy) (3.0.5)\n",
            "Requirement already satisfied: idna<3,>=2.5 in /usr/local/lib/python3.7/dist-packages (from requests<3.0.0,>=2.13.0->spacy) (2.10)\n",
            "Requirement already satisfied: chardet<4,>=3.0.2 in /usr/local/lib/python3.7/dist-packages (from requests<3.0.0,>=2.13.0->spacy) (3.0.4)\n",
            "Requirement already satisfied: urllib3!=1.25.0,!=1.25.1,<1.26,>=1.21.1 in /usr/local/lib/python3.7/dist-packages (from requests<3.0.0,>=2.13.0->spacy) (1.24.3)\n",
            "Requirement already satisfied: certifi>=2017.4.17 in /usr/local/lib/python3.7/dist-packages (from requests<3.0.0,>=2.13.0->spacy) (2020.12.5)\n",
            "Requirement already satisfied: importlib-metadata>=0.20; python_version < \"3.8\" in /usr/local/lib/python3.7/dist-packages (from catalogue<1.1.0,>=0.0.7->spacy) (3.7.0)\n",
            "Requirement already satisfied: zipp>=0.5 in /usr/local/lib/python3.7/dist-packages (from importlib-metadata>=0.20; python_version < \"3.8\"->catalogue<1.1.0,>=0.0.7->spacy) (3.4.0)\n",
            "Requirement already satisfied: typing-extensions>=3.6.4; python_version < \"3.8\" in /usr/local/lib/python3.7/dist-packages (from importlib-metadata>=0.20; python_version < \"3.8\"->catalogue<1.1.0,>=0.0.7->spacy) (3.7.4.3)\n"
          ],
          "name": "stdout"
        }
      ]
    },
    {
      "cell_type": "code",
      "metadata": {
        "id": "b_6mojYsKEgO"
      },
      "source": [
        "import spacy\r\n",
        "import random\r\n",
        "import time\r\n",
        "import numpy as np\r\n",
        "from spacy.util import minibatch, compounding\r\n"
      ],
      "execution_count": 14,
      "outputs": []
    },
    {
      "cell_type": "code",
      "metadata": {
        "id": "tgbgBZ-wKHTe"
      },
      "source": [
        "# from os import path, mkdir\r\n",
        "# if not path.isdir(\"data/\"):\r\n",
        "#     mkdir(\"data/\")\r\n",
        "# if not path.isdir(\"models/\"):\r\n",
        "#     mkdir(\"models/\")\r\n",
        "!mkdir data\r\n",
        "!mkdir models\r\n"
      ],
      "execution_count": null,
      "outputs": []
    },
    {
      "cell_type": "code",
      "metadata": {
        "colab": {
          "base_uri": "https://localhost:8080/"
        },
        "id": "euseitRsLphI",
        "outputId": "d76ff36d-6cc8-4d33-8983-d077aaffe816"
      },
      "source": [
        "!ls"
      ],
      "execution_count": null,
      "outputs": [
        {
          "output_type": "stream",
          "text": [
            "data  models\n"
          ],
          "name": "stdout"
        }
      ]
    },
    {
      "cell_type": "code",
      "metadata": {
        "colab": {
          "base_uri": "https://localhost:8080/"
        },
        "id": "x1ximHJwL-eC",
        "outputId": "8eb94315-d1e4-4995-ecd1-8eb9c70de4b8"
      },
      "source": [
        "!curl https://groups.csail.mit.edu/sls/downloads/movie/engtest.bio -o data/test.txt\r\n",
        "!curl https://groups.csail.mit.edu/sls/downloads/movie/engtrain.bio -o data/train.txt\r\n"
      ],
      "execution_count": null,
      "outputs": [
        {
          "output_type": "stream",
          "text": [
            "  % Total    % Received % Xferd  Average Speed   Time    Time     Time  Current\n",
            "                                 Dload  Upload   Total   Spent    Left  Speed\n",
            "100  246k  100  246k    0     0   454k      0 --:--:-- --:--:-- --:--:--  453k\n",
            "  % Total    % Received % Xferd  Average Speed   Time    Time     Time  Current\n",
            "                                 Dload  Upload   Total   Spent    Left  Speed\n",
            "100  989k  100  989k    0     0  2844k      0 --:--:-- --:--:-- --:--:-- 2844k\n"
          ],
          "name": "stdout"
        }
      ]
    },
    {
      "cell_type": "code",
      "metadata": {
        "colab": {
          "base_uri": "https://localhost:8080/"
        },
        "id": "GTmD77W2SHhj",
        "outputId": "f3e7b0ae-10c1-4b45-89c9-48fd7de540a7"
      },
      "source": [
        "!pwd"
      ],
      "execution_count": null,
      "outputs": [
        {
          "output_type": "stream",
          "text": [
            "/content/drive/My Drive/ner/ner_TF\n"
          ],
          "name": "stdout"
        }
      ]
    },
    {
      "cell_type": "code",
      "metadata": {
        "id": "ohcfKO82cs0U"
      },
      "source": [
        "def load_data_spacy(file_path):\r\n",
        "    ''' Converts data from:\r\n",
        "    label \\t word \\n label \\t word \\n \\n label \\t word\r\n",
        "    to: sentence, {entities : [(start, end, label), (stard, end, label)]}\r\n",
        "    '''\r\n",
        "    file = open(file_path, 'r')\r\n",
        "    training_data, entities, sentence, unique_labels = [], [], [], []\r\n",
        "    current_annotation = None\r\n",
        "    end = 0 # initialize counter to keep track of start and end characters\r\n",
        "    for line in file:\r\n",
        "        line = line.strip(\"\\n\").split(\"\\t\")\r\n",
        "        # lines with len > 1 are words\r\n",
        "        if len(line) > 1:\r\n",
        "            label = line[0][2:]\r\n",
        "            label_type = line[0][0] # beginning of annotations - \"B\", intermediate - \"I\"\r\n",
        "            word = line[1]\r\n",
        "            sentence.append(word)\r\n",
        "            end += (len(word) + 1)\r\n",
        "            if label_type != 'I' and current_annotation:\r\n",
        "                entities.append((start, end - 2 - len(word), current_annotation))\r\n",
        "                current_annotation = None\r\n",
        "            if label_type == 'B':\r\n",
        "                start = end - len(word) - 1\r\n",
        "                current_annotation = label\r\n",
        "            if label_type == 'I':\r\n",
        "                current_annotation = label\r\n",
        "            if label != 'O' and label not in unique_labels:\r\n",
        "                unique_labels.append(label)\r\n",
        "            # lines with len == 1 are breaks between sentences\r\n",
        "        if len(line) == 1:\r\n",
        "            if current_annotation:\r\n",
        "                entities.append((start, end - 1, current_annotation))\r\n",
        "            sentence = \" \".join(sentence)\r\n",
        "            training_data.append([sentence, {'entities' : entities}])\r\n",
        "            # reset the counters and temporary lists\r\n",
        "            end = 0 \r\n",
        "            entities, sentence = [], []\r\n",
        "            current_annotation = None\r\n",
        "    file.close()\r\n",
        "    return training_data, unique_labels\r\n",
        "TRAIN_DATA, LABELS = load_data_spacy(\"data/train.txt\")\r\n"
      ],
      "execution_count": 15,
      "outputs": []
    },
    {
      "cell_type": "code",
      "metadata": {
        "colab": {
          "base_uri": "https://localhost:8080/"
        },
        "id": "zCAJcep6NexW",
        "outputId": "4f1c46fd-22f4-4be5-eaac-076fdf7a2267"
      },
      "source": [
        "[x[0] for x in TRAIN_DATA[1:10]]\r\n"
      ],
      "execution_count": 18,
      "outputs": [
        {
          "output_type": "execute_result",
          "data": {
            "text/plain": [
              "['show me films with drew barrymore from the 1980s',\n",
              " 'what movies starred both al pacino and robert deniro',\n",
              " 'find me all of the movies that starred harold ramis and bill murray',\n",
              " 'find me a movie with a quote about baseball in it',\n",
              " 'what movies have mississippi in the title',\n",
              " 'show me science fiction films directed by steven spielberg',\n",
              " 'do you have any thrillers directed by sofia coppola',\n",
              " 'what leonard cohen songs have been used in a movie',\n",
              " 'show me films elvis films set in hawaii']"
            ]
          },
          "metadata": {
            "tags": []
          },
          "execution_count": 18
        }
      ]
    },
    {
      "cell_type": "code",
      "metadata": {
        "colab": {
          "base_uri": "https://localhost:8080/"
        },
        "id": "pVANKLuUUg6_",
        "outputId": "7ef07284-5aa5-47fc-8c1f-d79e1028e251"
      },
      "source": [
        "[x[1] for x in TRAIN_DATA[1:10]]\r\n"
      ],
      "execution_count": 19,
      "outputs": [
        {
          "output_type": "execute_result",
          "data": {
            "text/plain": [
              "[{'entities': [(19, 33, 'ACTOR'), (43, 48, 'YEAR')]},\n",
              " {'entities': [(25, 34, 'ACTOR'), (39, 52, 'ACTOR')]},\n",
              " {'entities': [(39, 51, 'ACTOR'), (56, 67, 'ACTOR')]},\n",
              " {'entities': []},\n",
              " {'entities': [(17, 28, 'TITLE')]},\n",
              " {'entities': [(8, 29, 'GENRE'), (42, 58, 'DIRECTOR')]},\n",
              " {'entities': [(16, 25, 'GENRE'), (38, 51, 'DIRECTOR')]},\n",
              " {'entities': [(5, 24, 'SONG')]},\n",
              " {'entities': [(14, 19, 'ACTOR'), (26, 39, 'PLOT')]}]"
            ]
          },
          "metadata": {
            "tags": []
          },
          "execution_count": 19
        }
      ]
    },
    {
      "cell_type": "code",
      "metadata": {
        "colab": {
          "base_uri": "https://localhost:8080/"
        },
        "id": "bubT1-_9hIBC",
        "outputId": "2faa7c99-e5da-4f46-b3a7-cb33723573d7"
      },
      "source": [
        "!{sys.executable} -m spacy download en\r\n"
      ],
      "execution_count": 20,
      "outputs": [
        {
          "output_type": "stream",
          "text": [
            "Requirement already satisfied: en_core_web_sm==2.2.5 from https://github.com/explosion/spacy-models/releases/download/en_core_web_sm-2.2.5/en_core_web_sm-2.2.5.tar.gz#egg=en_core_web_sm==2.2.5 in /usr/local/lib/python3.7/dist-packages (2.2.5)\n",
            "Requirement already satisfied: spacy>=2.2.2 in /usr/local/lib/python3.7/dist-packages (from en_core_web_sm==2.2.5) (2.2.4)\n",
            "Requirement already satisfied: preshed<3.1.0,>=3.0.2 in /usr/local/lib/python3.7/dist-packages (from spacy>=2.2.2->en_core_web_sm==2.2.5) (3.0.5)\n",
            "Requirement already satisfied: setuptools in /usr/local/lib/python3.7/dist-packages (from spacy>=2.2.2->en_core_web_sm==2.2.5) (53.0.0)\n",
            "Requirement already satisfied: numpy>=1.15.0 in /usr/local/lib/python3.7/dist-packages (from spacy>=2.2.2->en_core_web_sm==2.2.5) (1.19.5)\n",
            "Requirement already satisfied: murmurhash<1.1.0,>=0.28.0 in /usr/local/lib/python3.7/dist-packages (from spacy>=2.2.2->en_core_web_sm==2.2.5) (1.0.5)\n",
            "Requirement already satisfied: blis<0.5.0,>=0.4.0 in /usr/local/lib/python3.7/dist-packages (from spacy>=2.2.2->en_core_web_sm==2.2.5) (0.4.1)\n",
            "Requirement already satisfied: tqdm<5.0.0,>=4.38.0 in /usr/local/lib/python3.7/dist-packages (from spacy>=2.2.2->en_core_web_sm==2.2.5) (4.41.1)\n",
            "Requirement already satisfied: catalogue<1.1.0,>=0.0.7 in /usr/local/lib/python3.7/dist-packages (from spacy>=2.2.2->en_core_web_sm==2.2.5) (1.0.0)\n",
            "Requirement already satisfied: thinc==7.4.0 in /usr/local/lib/python3.7/dist-packages (from spacy>=2.2.2->en_core_web_sm==2.2.5) (7.4.0)\n",
            "Requirement already satisfied: requests<3.0.0,>=2.13.0 in /usr/local/lib/python3.7/dist-packages (from spacy>=2.2.2->en_core_web_sm==2.2.5) (2.23.0)\n",
            "Requirement already satisfied: plac<1.2.0,>=0.9.6 in /usr/local/lib/python3.7/dist-packages (from spacy>=2.2.2->en_core_web_sm==2.2.5) (1.1.3)\n",
            "Requirement already satisfied: srsly<1.1.0,>=1.0.2 in /usr/local/lib/python3.7/dist-packages (from spacy>=2.2.2->en_core_web_sm==2.2.5) (1.0.5)\n",
            "Requirement already satisfied: cymem<2.1.0,>=2.0.2 in /usr/local/lib/python3.7/dist-packages (from spacy>=2.2.2->en_core_web_sm==2.2.5) (2.0.5)\n",
            "Requirement already satisfied: wasabi<1.1.0,>=0.4.0 in /usr/local/lib/python3.7/dist-packages (from spacy>=2.2.2->en_core_web_sm==2.2.5) (0.8.2)\n",
            "Requirement already satisfied: importlib-metadata>=0.20; python_version < \"3.8\" in /usr/local/lib/python3.7/dist-packages (from catalogue<1.1.0,>=0.0.7->spacy>=2.2.2->en_core_web_sm==2.2.5) (3.7.0)\n",
            "Requirement already satisfied: certifi>=2017.4.17 in /usr/local/lib/python3.7/dist-packages (from requests<3.0.0,>=2.13.0->spacy>=2.2.2->en_core_web_sm==2.2.5) (2020.12.5)\n",
            "Requirement already satisfied: idna<3,>=2.5 in /usr/local/lib/python3.7/dist-packages (from requests<3.0.0,>=2.13.0->spacy>=2.2.2->en_core_web_sm==2.2.5) (2.10)\n",
            "Requirement already satisfied: urllib3!=1.25.0,!=1.25.1,<1.26,>=1.21.1 in /usr/local/lib/python3.7/dist-packages (from requests<3.0.0,>=2.13.0->spacy>=2.2.2->en_core_web_sm==2.2.5) (1.24.3)\n",
            "Requirement already satisfied: chardet<4,>=3.0.2 in /usr/local/lib/python3.7/dist-packages (from requests<3.0.0,>=2.13.0->spacy>=2.2.2->en_core_web_sm==2.2.5) (3.0.4)\n",
            "Requirement already satisfied: typing-extensions>=3.6.4; python_version < \"3.8\" in /usr/local/lib/python3.7/dist-packages (from importlib-metadata>=0.20; python_version < \"3.8\"->catalogue<1.1.0,>=0.0.7->spacy>=2.2.2->en_core_web_sm==2.2.5) (3.7.4.3)\n",
            "Requirement already satisfied: zipp>=0.5 in /usr/local/lib/python3.7/dist-packages (from importlib-metadata>=0.20; python_version < \"3.8\"->catalogue<1.1.0,>=0.0.7->spacy>=2.2.2->en_core_web_sm==2.2.5) (3.4.0)\n",
            "\u001b[38;5;2m✔ Download and installation successful\u001b[0m\n",
            "You can now load the model via spacy.load('en_core_web_sm')\n",
            "\u001b[38;5;2m✔ Linking successful\u001b[0m\n",
            "/usr/local/lib/python3.7/dist-packages/en_core_web_sm -->\n",
            "/usr/local/lib/python3.7/dist-packages/spacy/data/en\n",
            "You can now load the model via spacy.load('en')\n"
          ],
          "name": "stdout"
        }
      ]
    },
    {
      "cell_type": "code",
      "metadata": {
        "colab": {
          "base_uri": "https://localhost:8080/",
          "height": 540
        },
        "id": "mPhZPvQthKrt",
        "outputId": "73b6c859-045c-42ab-9be4-04a5f11e2c78"
      },
      "source": [
        "from spacy import displacy\r\n",
        "import warnings\r\n",
        "warnings.filterwarnings(\"ignore\")\r\n",
        "nlp = spacy.load('en')\r\n",
        "TEST_DATA, _ = load_data_spacy(\"data/test.txt\")\r\n",
        "\r\n",
        "test_sentences = [x[0] for x in TEST_DATA[0:15]] # extract the sentences from [sentence, entity]\r\n",
        "for x in test_sentences:\r\n",
        "    doc = nlp(x)\r\n",
        "    displacy.render(doc, jupyter = True, style = \"ent\")\r\n",
        "warnings.filterwarnings(\"default\")\r\n"
      ],
      "execution_count": 21,
      "outputs": [
        {
          "output_type": "display_data",
          "data": {
            "text/html": [
              "<span class=\"tex2jax_ignore\"><div class=\"entities\" style=\"line-height: 2.5; direction: ltr\">are there any good romantic comedies out right now</div></span>"
            ],
            "text/plain": [
              "<IPython.core.display.HTML object>"
            ]
          },
          "metadata": {
            "tags": []
          }
        },
        {
          "output_type": "display_data",
          "data": {
            "text/html": [
              "<span class=\"tex2jax_ignore\"><div class=\"entities\" style=\"line-height: 2.5; direction: ltr\">show me a movie about cars that talk</div></span>"
            ],
            "text/plain": [
              "<IPython.core.display.HTML object>"
            ]
          },
          "metadata": {
            "tags": []
          }
        },
        {
          "output_type": "display_data",
          "data": {
            "text/html": [
              "<span class=\"tex2jax_ignore\"><div class=\"entities\" style=\"line-height: 2.5; direction: ltr\">list the \n",
              "<mark class=\"entity\" style=\"background: #e4e7d2; padding: 0.45em 0.6em; margin: 0 0.25em; line-height: 1; border-radius: 0.35em;\">\n",
              "    five\n",
              "    <span style=\"font-size: 0.8em; font-weight: bold; line-height: 1; border-radius: 0.35em; text-transform: uppercase; vertical-align: middle; margin-left: 0.5rem\">CARDINAL</span>\n",
              "</mark>\n",
              " star rated movies starring \n",
              "<mark class=\"entity\" style=\"background: #aa9cfc; padding: 0.45em 0.6em; margin: 0 0.25em; line-height: 1; border-radius: 0.35em;\">\n",
              "    mel gibson\n",
              "    <span style=\"font-size: 0.8em; font-weight: bold; line-height: 1; border-radius: 0.35em; text-transform: uppercase; vertical-align: middle; margin-left: 0.5rem\">PERSON</span>\n",
              "</mark>\n",
              "</div></span>"
            ],
            "text/plain": [
              "<IPython.core.display.HTML object>"
            ]
          },
          "metadata": {
            "tags": []
          }
        },
        {
          "output_type": "display_data",
          "data": {
            "text/html": [
              "<span class=\"tex2jax_ignore\"><div class=\"entities\" style=\"line-height: 2.5; direction: ltr\">what science fiction films have come out recently</div></span>"
            ],
            "text/plain": [
              "<IPython.core.display.HTML object>"
            ]
          },
          "metadata": {
            "tags": []
          }
        },
        {
          "output_type": "display_data",
          "data": {
            "text/html": [
              "<span class=\"tex2jax_ignore\"><div class=\"entities\" style=\"line-height: 2.5; direction: ltr\">did the same director make all of the harry potter movies</div></span>"
            ],
            "text/plain": [
              "<IPython.core.display.HTML object>"
            ]
          },
          "metadata": {
            "tags": []
          }
        },
        {
          "output_type": "display_data",
          "data": {
            "text/html": [
              "<span class=\"tex2jax_ignore\"><div class=\"entities\" style=\"line-height: 2.5; direction: ltr\">show me \n",
              "<mark class=\"entity\" style=\"background: #bfe1d9; padding: 0.45em 0.6em; margin: 0 0.25em; line-height: 1; border-radius: 0.35em;\">\n",
              "    1980s\n",
              "    <span style=\"font-size: 0.8em; font-weight: bold; line-height: 1; border-radius: 0.35em; text-transform: uppercase; vertical-align: middle; margin-left: 0.5rem\">DATE</span>\n",
              "</mark>\n",
              " action movies</div></span>"
            ],
            "text/plain": [
              "<IPython.core.display.HTML object>"
            ]
          },
          "metadata": {
            "tags": []
          }
        },
        {
          "output_type": "display_data",
          "data": {
            "text/html": [
              "<span class=\"tex2jax_ignore\"><div class=\"entities\" style=\"line-height: 2.5; direction: ltr\">what is the name of the \n",
              "<mark class=\"entity\" style=\"background: #e4e7d2; padding: 0.45em 0.6em; margin: 0 0.25em; line-height: 1; border-radius: 0.35em;\">\n",
              "    third\n",
              "    <span style=\"font-size: 0.8em; font-weight: bold; line-height: 1; border-radius: 0.35em; text-transform: uppercase; vertical-align: middle; margin-left: 0.5rem\">ORDINAL</span>\n",
              "</mark>\n",
              " movie in the star trek series</div></span>"
            ],
            "text/plain": [
              "<IPython.core.display.HTML object>"
            ]
          },
          "metadata": {
            "tags": []
          }
        },
        {
          "output_type": "display_data",
          "data": {
            "text/html": [
              "<span class=\"tex2jax_ignore\"><div class=\"entities\" style=\"line-height: 2.5; direction: ltr\">can you get a soundtrac for the harry potter films</div></span>"
            ],
            "text/plain": [
              "<IPython.core.display.HTML object>"
            ]
          },
          "metadata": {
            "tags": []
          }
        },
        {
          "output_type": "display_data",
          "data": {
            "text/html": [
              "<span class=\"tex2jax_ignore\"><div class=\"entities\" style=\"line-height: 2.5; direction: ltr\">find me science fiction movies since \n",
              "<mark class=\"entity\" style=\"background: #bfe1d9; padding: 0.45em 0.6em; margin: 0 0.25em; line-height: 1; border-radius: 0.35em;\">\n",
              "    2005\n",
              "    <span style=\"font-size: 0.8em; font-weight: bold; line-height: 1; border-radius: 0.35em; text-transform: uppercase; vertical-align: middle; margin-left: 0.5rem\">DATE</span>\n",
              "</mark>\n",
              "</div></span>"
            ],
            "text/plain": [
              "<IPython.core.display.HTML object>"
            ]
          },
          "metadata": {
            "tags": []
          }
        },
        {
          "output_type": "display_data",
          "data": {
            "text/html": [
              "<span class=\"tex2jax_ignore\"><div class=\"entities\" style=\"line-height: 2.5; direction: ltr\">what is the most current movie featuring mat damon</div></span>"
            ],
            "text/plain": [
              "<IPython.core.display.HTML object>"
            ]
          },
          "metadata": {
            "tags": []
          }
        },
        {
          "output_type": "display_data",
          "data": {
            "text/html": [
              "<span class=\"tex2jax_ignore\"><div class=\"entities\" style=\"line-height: 2.5; direction: ltr\">show me films where \n",
              "<mark class=\"entity\" style=\"background: #aa9cfc; padding: 0.45em 0.6em; margin: 0 0.25em; line-height: 1; border-radius: 0.35em;\">\n",
              "    jim carrey\n",
              "    <span style=\"font-size: 0.8em; font-weight: bold; line-height: 1; border-radius: 0.35em; text-transform: uppercase; vertical-align: middle; margin-left: 0.5rem\">PERSON</span>\n",
              "</mark>\n",
              " is a detective</div></span>"
            ],
            "text/plain": [
              "<IPython.core.display.HTML object>"
            ]
          },
          "metadata": {
            "tags": []
          }
        },
        {
          "output_type": "display_data",
          "data": {
            "text/html": [
              "<span class=\"tex2jax_ignore\"><div class=\"entities\" style=\"line-height: 2.5; direction: ltr\">did \n",
              "<mark class=\"entity\" style=\"background: #aa9cfc; padding: 0.45em 0.6em; margin: 0 0.25em; line-height: 1; border-radius: 0.35em;\">\n",
              "    george clooney\n",
              "    <span style=\"font-size: 0.8em; font-weight: bold; line-height: 1; border-radius: 0.35em; text-transform: uppercase; vertical-align: middle; margin-left: 0.5rem\">PERSON</span>\n",
              "</mark>\n",
              " make a musical in \n",
              "<mark class=\"entity\" style=\"background: #bfe1d9; padding: 0.45em 0.6em; margin: 0 0.25em; line-height: 1; border-radius: 0.35em;\">\n",
              "    the 1980s\n",
              "    <span style=\"font-size: 0.8em; font-weight: bold; line-height: 1; border-radius: 0.35em; text-transform: uppercase; vertical-align: middle; margin-left: 0.5rem\">DATE</span>\n",
              "</mark>\n",
              "</div></span>"
            ],
            "text/plain": [
              "<IPython.core.display.HTML object>"
            ]
          },
          "metadata": {
            "tags": []
          }
        },
        {
          "output_type": "display_data",
          "data": {
            "text/html": [
              "<span class=\"tex2jax_ignore\"><div class=\"entities\" style=\"line-height: 2.5; direction: ltr\">show me films with both \n",
              "<mark class=\"entity\" style=\"background: #aa9cfc; padding: 0.45em 0.6em; margin: 0 0.25em; line-height: 1; border-radius: 0.35em;\">\n",
              "    matt damon\n",
              "    <span style=\"font-size: 0.8em; font-weight: bold; line-height: 1; border-radius: 0.35em; text-transform: uppercase; vertical-align: middle; margin-left: 0.5rem\">PERSON</span>\n",
              "</mark>\n",
              " ad \n",
              "<mark class=\"entity\" style=\"background: #aa9cfc; padding: 0.45em 0.6em; margin: 0 0.25em; line-height: 1; border-radius: 0.35em;\">\n",
              "    ben affleck\n",
              "    <span style=\"font-size: 0.8em; font-weight: bold; line-height: 1; border-radius: 0.35em; text-transform: uppercase; vertical-align: middle; margin-left: 0.5rem\">PERSON</span>\n",
              "</mark>\n",
              "</div></span>"
            ],
            "text/plain": [
              "<IPython.core.display.HTML object>"
            ]
          },
          "metadata": {
            "tags": []
          }
        },
        {
          "output_type": "display_data",
          "data": {
            "text/html": [
              "<span class=\"tex2jax_ignore\"><div class=\"entities\" style=\"line-height: 2.5; direction: ltr\">what is the borrowers movie</div></span>"
            ],
            "text/plain": [
              "<IPython.core.display.HTML object>"
            ]
          },
          "metadata": {
            "tags": []
          }
        },
        {
          "output_type": "display_data",
          "data": {
            "text/html": [
              "<span class=\"tex2jax_ignore\"><div class=\"entities\" style=\"line-height: 2.5; direction: ltr\">have u movie hm about to pg \n",
              "<mark class=\"entity\" style=\"background: #e4e7d2; padding: 0.45em 0.6em; margin: 0 0.25em; line-height: 1; border-radius: 0.35em;\">\n",
              "    18\n",
              "    <span style=\"font-size: 0.8em; font-weight: bold; line-height: 1; border-radius: 0.35em; text-transform: uppercase; vertical-align: middle; margin-left: 0.5rem\">CARDINAL</span>\n",
              "</mark>\n",
              "</div></span>"
            ],
            "text/plain": [
              "<IPython.core.display.HTML object>"
            ]
          },
          "metadata": {
            "tags": []
          }
        }
      ]
    },
    {
      "cell_type": "code",
      "metadata": {
        "colab": {
          "base_uri": "https://localhost:8080/"
        },
        "id": "fSNnhJhVhNEp",
        "outputId": "f5fc0bca-1622-4126-d5c4-cb6fc4dd320b"
      },
      "source": [
        "# A simple decorator to log function processing time\r\n",
        "def timer(method):\r\n",
        "    def timed(*args, **kw):\r\n",
        "        ts = time.time()\r\n",
        "        result = method(*args, **kw)\r\n",
        "        te = time.time()\r\n",
        "        print(\"Completed in {} seconds\".format(int(te - ts)))\r\n",
        "        return result\r\n",
        "    return timed\r\n",
        "\r\n",
        "# Data must be of the form (sentence, {entities: [start, end, label]})\r\n",
        "@timer\r\n",
        "def train_spacy(train_data, labels, iterations, dropout = 0.2, display_freq = 1):\r\n",
        "    ''' Train a spacy NER model, which can be queried against with test data\r\n",
        "    train_data : training data in the format of (sentence, {entities: [(start, end, label)]})\r\n",
        "    labels : a list of unique annotations\r\n",
        "    iterations : number of training iterations\r\n",
        "    dropout : dropout proportion for training\r\n",
        "    display_freq : number of epochs between logging losses to console\r\n",
        "    '''\r\n",
        "    nlp = spacy.blank('en')\r\n",
        "    if 'ner' not in nlp.pipe_names:\r\n",
        "        ner = nlp.create_pipe('ner')\r\n",
        "        nlp.add_pipe(ner)\r\n",
        "# Add entity labels to the NER pipeline\r\n",
        "    for i in labels:\r\n",
        "        ner.add_label(i)\r\n",
        "# Disable other pipelines in SpaCy to only train NER\r\n",
        "    other_pipes = [pipe for pipe in nlp.pipe_names if pipe != 'ner']\r\n",
        "    with nlp.disable_pipes(*other_pipes):\r\n",
        "        nlp.vocab.vectors.name = 'spacy_model' # without this, spaCy throws an \"unnamed\" error\r\n",
        "        optimizer = nlp.begin_training()\r\n",
        "        for itr in range(iterations):\r\n",
        "            random.shuffle(train_data) # shuffle the training data before each iteration\r\n",
        "            losses = {}\r\n",
        "            batches = minibatch(train_data, size = compounding(4., 32., 1.001))\r\n",
        "            for batch in batches:\r\n",
        "                texts, annotations = zip(*batch)\r\n",
        "                nlp.update(\r\n",
        "                    texts,\r\n",
        "                    annotations,\r\n",
        "                    drop = dropout,\r\n",
        "                    sgd = optimizer,\r\n",
        "                    losses = losses)\r\n",
        "            if itr % display_freq == 0:\r\n",
        "                print(\"Iteration {} Loss: {}\".format(itr + 1, losses))\r\n",
        "    return nlp\r\n",
        "# Train (and save) the NER model\r\n",
        "ner = train_spacy(TRAIN_DATA, LABELS,6)\r\n",
        "ner.to_disk(\"models/spacy_example\")\r\n"
      ],
      "execution_count": null,
      "outputs": [
        {
          "output_type": "stream",
          "text": [
            "/usr/lib/python3.7/importlib/_bootstrap.py:219: RuntimeWarning: numpy.ufunc size changed, may indicate binary incompatibility. Expected 176 from C header, got 216 from PyObject\n",
            "  return f(*args, **kwds)\n"
          ],
          "name": "stderr"
        },
        {
          "output_type": "stream",
          "text": [
            "Iteration 1 Loss: {'ner': 19285.5924703256}\n",
            "Iteration 2 Loss: {'ner': 12826.147116060138}\n",
            "Iteration 3 Loss: {'ner': 10983.750106795245}\n",
            "Iteration 4 Loss: {'ner': 9883.371633674325}\n",
            "Iteration 5 Loss: {'ner': 8970.071292094592}\n",
            "Iteration 6 Loss: {'ner': 8208.749495199832}\n",
            "Completed in 218 seconds\n"
          ],
          "name": "stdout"
        },
        {
          "output_type": "stream",
          "text": [
            "/usr/local/lib/python3.7/dist-packages/spacy/language.py:900: ResourceWarning: unclosed file <_io.TextIOWrapper name='models/spacy_example/meta.json' mode='w' encoding='UTF-8'>\n",
            "  srsly.json_dumps(self.meta)\n",
            "ResourceWarning: Enable tracemalloc to get the object allocation traceback\n",
            "/usr/local/lib/python3.7/dist-packages/spacy/util.py:645: ResourceWarning: unclosed file <_io.BufferedWriter name='models/spacy_example/vocab/vectors'>\n",
            "  writer(path / key)\n",
            "ResourceWarning: Enable tracemalloc to get the object allocation traceback\n"
          ],
          "name": "stderr"
        }
      ]
    },
    {
      "cell_type": "code",
      "metadata": {
        "id": "QYCX8nSppaUl"
      },
      "source": [
        ""
      ],
      "execution_count": null,
      "outputs": []
    },
    {
      "cell_type": "code",
      "metadata": {
        "colab": {
          "base_uri": "https://localhost:8080/"
        },
        "id": "hrGurO7Vr3tm",
        "outputId": "2a0485d5-8dad-4921-8d4f-5c29346e4d54"
      },
      "source": [
        "# A simple decorator to log function processing time\r\n",
        "def timer(method):\r\n",
        "    def timed(*args, **kw):\r\n",
        "        ts = time.time()\r\n",
        "        result = method(*args, **kw)\r\n",
        "        te = time.time()\r\n",
        "        print(\"Completed in {} seconds\".format(int(te - ts)))\r\n",
        "        return result\r\n",
        "    return timed\r\n",
        "\r\n",
        "# Data must be of the form (sentence, {entities: [start, end, label]})\r\n",
        "@timer\r\n",
        "def train_spacy(train_data, labels, iterations, dropout = 0.2, display_freq = 1):\r\n",
        "    ''' Train a spacy NER model, which can be queried against with test data\r\n",
        "    train_data : training data in the format of (sentence, {entities: [(start, end, label)]})\r\n",
        "    labels : a list of unique annotations\r\n",
        "    iterations : number of training iterations\r\n",
        "    dropout : dropout proportion for training\r\n",
        "    display_freq : number of epochs between logging losses to console\r\n",
        "    '''\r\n",
        "    nlp = spacy.blank('en')\r\n",
        "    if 'ner' not in nlp.pipe_names:\r\n",
        "        ner = nlp.create_pipe('ner')\r\n",
        "        nlp.add_pipe(ner)\r\n",
        "# Add entity labels to the NER pipeline\r\n",
        "    for i in labels:\r\n",
        "        ner.add_label(i)\r\n",
        "# Disable other pipelines in SpaCy to only train NER\r\n",
        "    other_pipes = [pipe for pipe in nlp.pipe_names if pipe != 'ner']\r\n",
        "    with nlp.disable_pipes(*other_pipes):\r\n",
        "        nlp.vocab.vectors.name = 'spacy_model' # without this, spaCy throws an \"unnamed\" error\r\n",
        "        optimizer = nlp.begin_training()\r\n",
        "        for itr in range(iterations):\r\n",
        "            random.shuffle(train_data) # shuffle the training data before each iteration\r\n",
        "            losses = {}\r\n",
        "            batches = minibatch(train_data, size = compounding(4., 32., 1.001))\r\n",
        "            for batch in batches:\r\n",
        "                texts, annotations = zip(*batch)\r\n",
        "                nlp.update(\r\n",
        "                    texts,\r\n",
        "                    annotations,\r\n",
        "                    drop = dropout,\r\n",
        "                    sgd = optimizer,\r\n",
        "                    losses = losses)\r\n",
        "            if itr % display_freq == 0:\r\n",
        "                print(\"Iteration {} Loss: {}\".format(itr + 1, losses))\r\n",
        "    return nlp\r\n",
        "# Train (and save) the NER model\r\n",
        "ner = train_spacy(TRAIN_DATA, LABELS,10)\r\n",
        "ner.to_disk(\"models/spacy_example\")\r\n"
      ],
      "execution_count": null,
      "outputs": [
        {
          "output_type": "stream",
          "text": [
            "Iteration 1 Loss: {'ner': 19363.052856104143}\n",
            "Iteration 2 Loss: {'ner': 13082.70383554919}\n",
            "Iteration 3 Loss: {'ner': 11044.4054218838}\n",
            "Iteration 4 Loss: {'ner': 9987.992103624289}\n",
            "Iteration 5 Loss: {'ner': 9134.67087454532}\n",
            "Iteration 6 Loss: {'ner': 8392.598757864178}\n",
            "Iteration 7 Loss: {'ner': 7923.6016581037675}\n",
            "Iteration 8 Loss: {'ner': 7473.660795767361}\n",
            "Iteration 9 Loss: {'ner': 7098.115221611118}\n",
            "Iteration 10 Loss: {'ner': 6619.416343232932}\n",
            "Completed in 430 seconds\n"
          ],
          "name": "stdout"
        },
        {
          "output_type": "stream",
          "text": [
            "/usr/local/lib/python3.7/dist-packages/spacy/language.py:900: ResourceWarning: unclosed file <_io.TextIOWrapper name='models/spacy_example/meta.json' mode='w' encoding='UTF-8'>\n",
            "  srsly.json_dumps(self.meta)\n",
            "ResourceWarning: Enable tracemalloc to get the object allocation traceback\n",
            "/usr/local/lib/python3.7/dist-packages/spacy/util.py:645: ResourceWarning: unclosed file <_io.BufferedWriter name='models/spacy_example/vocab/vectors'>\n",
            "  writer(path / key)\n",
            "ResourceWarning: Enable tracemalloc to get the object allocation traceback\n"
          ],
          "name": "stderr"
        }
      ]
    },
    {
      "cell_type": "code",
      "metadata": {
        "id": "uH6GV-4Yr56p"
      },
      "source": [
        ""
      ],
      "execution_count": null,
      "outputs": []
    },
    {
      "cell_type": "code",
      "metadata": {
        "colab": {
          "base_uri": "https://localhost:8080/"
        },
        "id": "EVDGrZfCtkwR",
        "outputId": "4b7434b7-991c-4b9e-ac6f-c3a3923a20f8"
      },
      "source": [
        "# A simple decorator to log function processing time\r\n",
        "def timer(method):\r\n",
        "    def timed(*args, **kw):\r\n",
        "        ts = time.time()\r\n",
        "        result = method(*args, **kw)\r\n",
        "        te = time.time()\r\n",
        "        print(\"Completed in {} seconds\".format(int(te - ts)))\r\n",
        "        return result\r\n",
        "    return timed\r\n",
        "\r\n",
        "# Data must be of the form (sentence, {entities: [start, end, label]})\r\n",
        "@timer\r\n",
        "def train_spacy(train_data, labels, iterations, dropout = 0.2, display_freq = 1):\r\n",
        "    ''' Train a spacy NER model, which can be queried against with test data\r\n",
        "    train_data : training data in the format of (sentence, {entities: [(start, end, label)]})\r\n",
        "    labels : a list of unique annotations\r\n",
        "    iterations : number of training iterations\r\n",
        "    dropout : dropout proportion for training\r\n",
        "    display_freq : number of epochs between logging losses to console\r\n",
        "    '''\r\n",
        "    nlp = spacy.blank('en')\r\n",
        "    if 'ner' not in nlp.pipe_names:\r\n",
        "        ner = nlp.create_pipe('ner')\r\n",
        "        nlp.add_pipe(ner)\r\n",
        "# Add entity labels to the NER pipeline\r\n",
        "    for i in labels:\r\n",
        "        ner.add_label(i)\r\n",
        "# Disable other pipelines in SpaCy to only train NER\r\n",
        "    other_pipes = [pipe for pipe in nlp.pipe_names if pipe != 'ner']\r\n",
        "    with nlp.disable_pipes(*other_pipes):\r\n",
        "        nlp.vocab.vectors.name = 'spacy_model' # without this, spaCy throws an \"unnamed\" error\r\n",
        "        optimizer = nlp.begin_training()\r\n",
        "        for itr in range(iterations):\r\n",
        "            random.shuffle(train_data) # shuffle the training data before each iteration\r\n",
        "            losses = {}\r\n",
        "            batches = minibatch(train_data, size = compounding(4., 32., 1.001))\r\n",
        "            for batch in batches:\r\n",
        "                texts, annotations = zip(*batch)\r\n",
        "                nlp.update(\r\n",
        "                    texts,\r\n",
        "                    annotations,\r\n",
        "                    drop = dropout,\r\n",
        "                    sgd = optimizer,\r\n",
        "                    losses = losses)\r\n",
        "            if itr % display_freq == 0:\r\n",
        "                print(\"Iteration {} Loss: {}\".format(itr + 1, losses))\r\n",
        "    return nlp\r\n",
        "# Train (and save) the NER model\r\n",
        "ner = train_spacy(TRAIN_DATA, LABELS,15)\r\n",
        "ner.to_disk(\"models/spacy_example\")\r\n"
      ],
      "execution_count": null,
      "outputs": [
        {
          "output_type": "stream",
          "text": [
            "Iteration 1 Loss: {'ner': 19340.28966159749}\n",
            "Iteration 2 Loss: {'ner': 13021.786018995565}\n",
            "Iteration 3 Loss: {'ner': 10953.720307043908}\n",
            "Iteration 4 Loss: {'ner': 9803.261234055592}\n",
            "Iteration 5 Loss: {'ner': 8962.081964163184}\n",
            "Iteration 6 Loss: {'ner': 8535.459550399994}\n",
            "Iteration 7 Loss: {'ner': 7998.21778409236}\n",
            "Iteration 8 Loss: {'ner': 7678.102943739372}\n",
            "Iteration 9 Loss: {'ner': 7051.078658205442}\n",
            "Iteration 10 Loss: {'ner': 6788.574800990848}\n",
            "Iteration 11 Loss: {'ner': 6482.951724743434}\n",
            "Iteration 12 Loss: {'ner': 6135.833851709095}\n",
            "Iteration 13 Loss: {'ner': 5899.169452024936}\n",
            "Iteration 14 Loss: {'ner': 5645.812932558561}\n",
            "Iteration 15 Loss: {'ner': 5457.107700761301}\n",
            "Completed in 692 seconds\n"
          ],
          "name": "stdout"
        },
        {
          "output_type": "stream",
          "text": [
            "/usr/local/lib/python3.7/dist-packages/spacy/language.py:900: ResourceWarning: unclosed file <_io.TextIOWrapper name='models/spacy_example/meta.json' mode='w' encoding='UTF-8'>\n",
            "  srsly.json_dumps(self.meta)\n",
            "ResourceWarning: Enable tracemalloc to get the object allocation traceback\n",
            "/usr/local/lib/python3.7/dist-packages/spacy/util.py:645: ResourceWarning: unclosed file <_io.BufferedWriter name='models/spacy_example/vocab/vectors'>\n",
            "  writer(path / key)\n",
            "ResourceWarning: Enable tracemalloc to get the object allocation traceback\n"
          ],
          "name": "stderr"
        }
      ]
    },
    {
      "cell_type": "code",
      "metadata": {
        "id": "hUP2uUC7tmy1"
      },
      "source": [
        ""
      ],
      "execution_count": null,
      "outputs": []
    },
    {
      "cell_type": "code",
      "metadata": {
        "colab": {
          "base_uri": "https://localhost:8080/"
        },
        "id": "C2IondrQwBT9",
        "outputId": "05af9df4-af9b-4453-8647-b46699354b02"
      },
      "source": [
        "# A simple decorator to log function processing time\r\n",
        "def timer(method):\r\n",
        "    def timed(*args, **kw):\r\n",
        "        ts = time.time()\r\n",
        "        result = method(*args, **kw)\r\n",
        "        te = time.time()\r\n",
        "        print(\"Completed in {} seconds\".format(int(te - ts)))\r\n",
        "        return result\r\n",
        "    return timed\r\n",
        "\r\n",
        "# Data must be of the form (sentence, {entities: [start, end, label]})\r\n",
        "@timer\r\n",
        "def train_spacy(train_data, labels, iterations, dropout = 0.2, display_freq = 1):\r\n",
        "    ''' Train a spacy NER model, which can be queried against with test data\r\n",
        "    train_data : training data in the format of (sentence, {entities: [(start, end, label)]})\r\n",
        "    labels : a list of unique annotations\r\n",
        "    iterations : number of training iterations\r\n",
        "    dropout : dropout proportion for training\r\n",
        "    display_freq : number of epochs between logging losses to console\r\n",
        "    '''\r\n",
        "    nlp = spacy.blank('en')\r\n",
        "    if 'ner' not in nlp.pipe_names:\r\n",
        "        ner = nlp.create_pipe('ner')\r\n",
        "        nlp.add_pipe(ner)\r\n",
        "# Add entity labels to the NER pipeline\r\n",
        "    for i in labels:\r\n",
        "        ner.add_label(i)\r\n",
        "# Disable other pipelines in SpaCy to only train NER\r\n",
        "    other_pipes = [pipe for pipe in nlp.pipe_names if pipe != 'ner']\r\n",
        "    with nlp.disable_pipes(*other_pipes):\r\n",
        "        nlp.vocab.vectors.name = 'spacy_model' # without this, spaCy throws an \"unnamed\" error\r\n",
        "        optimizer = nlp.begin_training()\r\n",
        "        for itr in range(iterations):\r\n",
        "            random.shuffle(train_data) # shuffle the training data before each iteration\r\n",
        "            losses = {}\r\n",
        "            batches = minibatch(train_data, size = compounding(4., 32., 1.001))\r\n",
        "            for batch in batches:\r\n",
        "                texts, annotations = zip(*batch)\r\n",
        "                nlp.update(\r\n",
        "                    texts,\r\n",
        "                    annotations,\r\n",
        "                    drop = dropout,\r\n",
        "                    sgd = optimizer,\r\n",
        "                    losses = losses)\r\n",
        "            if itr % display_freq == 0:\r\n",
        "                print(\"Iteration {} Loss: {}\".format(itr + 1, losses))\r\n",
        "    return nlp\r\n",
        "# Train (and save) the NER model\r\n",
        "ner = train_spacy(TRAIN_DATA, LABELS,30)\r\n",
        "ner.to_disk(\"models/spacy_example\")\r\n"
      ],
      "execution_count": 22,
      "outputs": [
        {
          "output_type": "stream",
          "text": [
            "/usr/lib/python3.7/importlib/_bootstrap.py:219: RuntimeWarning: numpy.ufunc size changed, may indicate binary incompatibility. Expected 176 from C header, got 216 from PyObject\n",
            "  return f(*args, **kwds)\n"
          ],
          "name": "stderr"
        },
        {
          "output_type": "stream",
          "text": [
            "Iteration 1 Loss: {'ner': 19019.74426940676}\n",
            "Iteration 2 Loss: {'ner': 12830.695900784089}\n",
            "Iteration 3 Loss: {'ner': 10989.96456429876}\n",
            "Iteration 4 Loss: {'ner': 9813.775539953618}\n",
            "Iteration 5 Loss: {'ner': 9180.638777810615}\n",
            "Iteration 6 Loss: {'ner': 8394.474227124892}\n",
            "Iteration 7 Loss: {'ner': 7935.246571758179}\n",
            "Iteration 8 Loss: {'ner': 7283.91281054702}\n",
            "Iteration 9 Loss: {'ner': 7124.204717916468}\n",
            "Iteration 10 Loss: {'ner': 6781.481537387383}\n",
            "Iteration 11 Loss: {'ner': 6423.513041305701}\n",
            "Iteration 12 Loss: {'ner': 6053.377239212816}\n",
            "Iteration 13 Loss: {'ner': 5878.882489675567}\n",
            "Iteration 14 Loss: {'ner': 5730.652088310121}\n",
            "Iteration 15 Loss: {'ner': 5328.182437542447}\n",
            "Iteration 16 Loss: {'ner': 5309.032357399481}\n",
            "Iteration 17 Loss: {'ner': 5262.976354904392}\n",
            "Iteration 18 Loss: {'ner': 4915.629261033916}\n",
            "Iteration 19 Loss: {'ner': 4823.157442005399}\n",
            "Iteration 20 Loss: {'ner': 4820.599999608763}\n",
            "Iteration 21 Loss: {'ner': 4569.896051017202}\n",
            "Iteration 22 Loss: {'ner': 4342.474037481937}\n",
            "Iteration 23 Loss: {'ner': 4354.992108380133}\n",
            "Iteration 24 Loss: {'ner': 4183.069581963613}\n",
            "Iteration 25 Loss: {'ner': 4152.4102714682995}\n",
            "Iteration 26 Loss: {'ner': 3986.078096616843}\n",
            "Iteration 27 Loss: {'ner': 3990.0810722805363}\n",
            "Iteration 28 Loss: {'ner': 3900.313407659358}\n",
            "Iteration 29 Loss: {'ner': 3900.5303479552845}\n",
            "Iteration 30 Loss: {'ner': 3764.284557003833}\n",
            "Completed in 1471 seconds\n"
          ],
          "name": "stdout"
        },
        {
          "output_type": "stream",
          "text": [
            "/usr/local/lib/python3.7/dist-packages/spacy/language.py:900: ResourceWarning: unclosed file <_io.TextIOWrapper name='models/spacy_example/meta.json' mode='w' encoding='UTF-8'>\n",
            "  srsly.json_dumps(self.meta)\n",
            "ResourceWarning: Enable tracemalloc to get the object allocation traceback\n",
            "/usr/local/lib/python3.7/dist-packages/spacy/util.py:645: ResourceWarning: unclosed file <_io.BufferedWriter name='models/spacy_example/vocab/vectors'>\n",
            "  writer(path / key)\n",
            "ResourceWarning: Enable tracemalloc to get the object allocation traceback\n"
          ],
          "name": "stderr"
        }
      ]
    },
    {
      "cell_type": "code",
      "metadata": {
        "id": "die8RKpR-KhC"
      },
      "source": [
        ""
      ],
      "execution_count": null,
      "outputs": []
    },
    {
      "cell_type": "code",
      "metadata": {
        "colab": {
          "base_uri": "https://localhost:8080/"
        },
        "id": "8ywUvo-A-QB-",
        "outputId": "bde32d6d-b8eb-44bf-cf07-f0f049c2456f"
      },
      "source": [
        "# A simple decorator to log function processing time\r\n",
        "def timer(method):\r\n",
        "    def timed(*args, **kw):\r\n",
        "        ts = time.time()\r\n",
        "        result = method(*args, **kw)\r\n",
        "        te = time.time()\r\n",
        "        print(\"Completed in {} seconds\".format(int(te - ts)))\r\n",
        "        return result\r\n",
        "    return timed\r\n",
        "\r\n",
        "# Data must be of the form (sentence, {entities: [start, end, label]})\r\n",
        "@timer\r\n",
        "def train_spacy(train_data, labels, iterations, dropout = 0.2, display_freq = 1):\r\n",
        "    ''' Train a spacy NER model, which can be queried against with test data\r\n",
        "    train_data : training data in the format of (sentence, {entities: [(start, end, label)]})\r\n",
        "    labels : a list of unique annotations\r\n",
        "    iterations : number of training iterations\r\n",
        "    dropout : dropout proportion for training\r\n",
        "    display_freq : number of epochs between logging losses to console\r\n",
        "    '''\r\n",
        "    nlp = spacy.blank('en')\r\n",
        "    if 'ner' not in nlp.pipe_names:\r\n",
        "        ner = nlp.create_pipe('ner')\r\n",
        "        nlp.add_pipe(ner)\r\n",
        "# Add entity labels to the NER pipeline\r\n",
        "    for i in labels:\r\n",
        "        ner.add_label(i)\r\n",
        "# Disable other pipelines in SpaCy to only train NER\r\n",
        "    other_pipes = [pipe for pipe in nlp.pipe_names if pipe != 'ner']\r\n",
        "    with nlp.disable_pipes(*other_pipes):\r\n",
        "        nlp.vocab.vectors.name = 'spacy_model' # without this, spaCy throws an \"unnamed\" error\r\n",
        "        optimizer = nlp.begin_training()\r\n",
        "        for itr in range(iterations):\r\n",
        "            random.shuffle(train_data) # shuffle the training data before each iteration\r\n",
        "            losses = {}\r\n",
        "            batches = minibatch(train_data, size = compounding(4., 32., 1.001))\r\n",
        "            for batch in batches:\r\n",
        "                texts, annotations = zip(*batch)\r\n",
        "                nlp.update(\r\n",
        "                    texts,\r\n",
        "                    annotations,\r\n",
        "                    drop = dropout,\r\n",
        "                    sgd = optimizer,\r\n",
        "                    losses = losses)\r\n",
        "            if itr % display_freq == 0:\r\n",
        "                print(\"Iteration {} Loss: {}\".format(itr + 1, losses))\r\n",
        "    return nlp\r\n",
        "# Train (and save) the NER model\r\n",
        "ner = train_spacy(TRAIN_DATA, LABELS,60)\r\n",
        "ner.to_disk(\"models/spacy_example\")\r\n"
      ],
      "execution_count": 24,
      "outputs": [
        {
          "output_type": "stream",
          "text": [
            "Iteration 1 Loss: {'ner': 19336.53553482932}\n",
            "Iteration 2 Loss: {'ner': 12948.264283357496}\n",
            "Iteration 3 Loss: {'ner': 10847.168732393659}\n",
            "Iteration 4 Loss: {'ner': 9866.058514049537}\n",
            "Iteration 5 Loss: {'ner': 9173.150289795385}\n",
            "Iteration 6 Loss: {'ner': 8366.55339299964}\n",
            "Iteration 7 Loss: {'ner': 7834.466614185692}\n",
            "Iteration 8 Loss: {'ner': 7407.275133760962}\n",
            "Iteration 9 Loss: {'ner': 6994.706559609894}\n",
            "Iteration 10 Loss: {'ner': 6734.476595958864}\n",
            "Iteration 11 Loss: {'ner': 6150.517926633854}\n",
            "Iteration 12 Loss: {'ner': 6174.099823646037}\n",
            "Iteration 13 Loss: {'ner': 5891.533834329663}\n",
            "Iteration 14 Loss: {'ner': 5739.600926223964}\n",
            "Iteration 15 Loss: {'ner': 5390.210577435957}\n",
            "Iteration 16 Loss: {'ner': 5283.6722016839585}\n",
            "Iteration 17 Loss: {'ner': 5122.564868160487}\n",
            "Iteration 18 Loss: {'ner': 4998.307690284629}\n",
            "Iteration 19 Loss: {'ner': 4882.688914907015}\n",
            "Iteration 20 Loss: {'ner': 4602.38563583102}\n",
            "Iteration 21 Loss: {'ner': 4409.292741963467}\n",
            "Iteration 22 Loss: {'ner': 4414.472140312212}\n",
            "Iteration 23 Loss: {'ner': 4282.31218886541}\n",
            "Iteration 24 Loss: {'ner': 4100.30937345815}\n",
            "Iteration 25 Loss: {'ner': 4062.0514238345922}\n",
            "Iteration 26 Loss: {'ner': 3959.538024369359}\n",
            "Iteration 27 Loss: {'ner': 3926.1599364053345}\n",
            "Iteration 28 Loss: {'ner': 3779.593619230019}\n",
            "Iteration 29 Loss: {'ner': 3880.8122448256217}\n",
            "Iteration 30 Loss: {'ner': 3713.1753952204067}\n",
            "Iteration 31 Loss: {'ner': 3727.2618643602764}\n",
            "Iteration 32 Loss: {'ner': 3659.886636033905}\n",
            "Iteration 33 Loss: {'ner': 3632.970063944586}\n",
            "Iteration 34 Loss: {'ner': 3332.5837730285634}\n",
            "Iteration 35 Loss: {'ner': 3309.1781240537316}\n",
            "Iteration 36 Loss: {'ner': 3220.878456919276}\n",
            "Iteration 37 Loss: {'ner': 3279.625359212854}\n",
            "Iteration 38 Loss: {'ner': 3082.1320504763726}\n",
            "Iteration 39 Loss: {'ner': 3178.934979615782}\n",
            "Iteration 40 Loss: {'ner': 3055.62386456653}\n",
            "Iteration 41 Loss: {'ner': 2964.91468979564}\n",
            "Iteration 42 Loss: {'ner': 3009.6960530644583}\n",
            "Iteration 43 Loss: {'ner': 2863.1586681267277}\n",
            "Iteration 44 Loss: {'ner': 2916.1713341206464}\n",
            "Iteration 45 Loss: {'ner': 2872.1845226096884}\n",
            "Iteration 46 Loss: {'ner': 2884.230766030835}\n",
            "Iteration 47 Loss: {'ner': 2741.0749081811546}\n",
            "Iteration 48 Loss: {'ner': 2806.4981131216837}\n",
            "Iteration 49 Loss: {'ner': 2658.962164418956}\n",
            "Iteration 50 Loss: {'ner': 2655.2218316906033}\n",
            "Iteration 51 Loss: {'ner': 2579.560360348162}\n",
            "Iteration 52 Loss: {'ner': 2640.574539659543}\n",
            "Iteration 53 Loss: {'ner': 2663.8496769509347}\n",
            "Iteration 54 Loss: {'ner': 2453.756900832105}\n",
            "Iteration 55 Loss: {'ner': 2515.9103079398}\n",
            "Iteration 56 Loss: {'ner': 2486.2172084802723}\n",
            "Iteration 57 Loss: {'ner': 2517.8883990685686}\n",
            "Iteration 58 Loss: {'ner': 2377.4680313617523}\n",
            "Iteration 59 Loss: {'ner': 2363.895570799526}\n",
            "Iteration 60 Loss: {'ner': 2411.5132606690076}\n",
            "Completed in 3266 seconds\n"
          ],
          "name": "stdout"
        },
        {
          "output_type": "stream",
          "text": [
            "/usr/local/lib/python3.7/dist-packages/spacy/language.py:900: ResourceWarning: unclosed file <_io.TextIOWrapper name='models/spacy_example/meta.json' mode='w' encoding='UTF-8'>\n",
            "  srsly.json_dumps(self.meta)\n",
            "ResourceWarning: Enable tracemalloc to get the object allocation traceback\n",
            "/usr/local/lib/python3.7/dist-packages/spacy/util.py:645: ResourceWarning: unclosed file <_io.BufferedWriter name='models/spacy_example/vocab/vectors'>\n",
            "  writer(path / key)\n",
            "ResourceWarning: Enable tracemalloc to get the object allocation traceback\n"
          ],
          "name": "stderr"
        }
      ]
    },
    {
      "cell_type": "code",
      "metadata": {
        "id": "0HU6I2jZ-Rxa"
      },
      "source": [
        ""
      ],
      "execution_count": null,
      "outputs": []
    },
    {
      "cell_type": "code",
      "metadata": {
        "colab": {
          "base_uri": "https://localhost:8080/"
        },
        "id": "N0Ndfgo7Vbqr",
        "outputId": "e1f0970d-ce5c-44d5-ca51-349380fac049"
      },
      "source": [
        "# A simple decorator to log function processing time\r\n",
        "def timer(method):\r\n",
        "    def timed(*args, **kw):\r\n",
        "        ts = time.time()\r\n",
        "        result = method(*args, **kw)\r\n",
        "        te = time.time()\r\n",
        "        print(\"Completed in {} seconds\".format(int(te - ts)))\r\n",
        "        return result\r\n",
        "    return timed\r\n",
        "\r\n",
        "# Data must be of the form (sentence, {entities: [start, end, label]})\r\n",
        "@timer\r\n",
        "def train_spacy(train_data, labels, iterations, dropout = 0.2, display_freq = 1):\r\n",
        "    ''' Train a spacy NER model, which can be queried against with test data\r\n",
        "    train_data : training data in the format of (sentence, {entities: [(start, end, label)]})\r\n",
        "    labels : a list of unique annotations\r\n",
        "    iterations : number of training iterations\r\n",
        "    dropout : dropout proportion for training\r\n",
        "    display_freq : number of epochs between logging losses to console\r\n",
        "    '''\r\n",
        "    nlp = spacy.blank('en')\r\n",
        "    if 'ner' not in nlp.pipe_names:\r\n",
        "        ner = nlp.create_pipe('ner')\r\n",
        "        nlp.add_pipe(ner)\r\n",
        "# Add entity labels to the NER pipeline\r\n",
        "    for i in labels:\r\n",
        "        ner.add_label(i)\r\n",
        "# Disable other pipelines in SpaCy to only train NER\r\n",
        "    other_pipes = [pipe for pipe in nlp.pipe_names if pipe != 'ner']\r\n",
        "    with nlp.disable_pipes(*other_pipes):\r\n",
        "        nlp.vocab.vectors.name = 'spacy_model' # without this, spaCy throws an \"unnamed\" error\r\n",
        "        optimizer = nlp.begin_training()\r\n",
        "        for itr in range(iterations):\r\n",
        "            random.shuffle(train_data) # shuffle the training data before each iteration\r\n",
        "            losses = {}\r\n",
        "            batches = minibatch(train_data, size = compounding(4., 32., 1.001))\r\n",
        "            for batch in batches:\r\n",
        "                texts, annotations = zip(*batch)\r\n",
        "                nlp.update(\r\n",
        "                    texts,\r\n",
        "                    annotations,\r\n",
        "                    drop = dropout,\r\n",
        "                    sgd = optimizer,\r\n",
        "                    losses = losses)\r\n",
        "            if itr % display_freq == 0:\r\n",
        "                print(\"Iteration {} Loss: {}\".format(itr + 1, losses))\r\n",
        "    return nlp\r\n",
        "# Train (and save) the NER model\r\n",
        "ner = train_spacy(TRAIN_DATA, LABELS,100)\r\n",
        "ner.to_disk(\"models/spacy_example\")\r\n"
      ],
      "execution_count": 25,
      "outputs": [
        {
          "output_type": "stream",
          "text": [
            "Iteration 1 Loss: {'ner': 19530.17756882755}\n",
            "Iteration 2 Loss: {'ner': 13005.028980016074}\n",
            "Iteration 3 Loss: {'ner': 11075.012673848662}\n",
            "Iteration 4 Loss: {'ner': 9833.993687054897}\n",
            "Iteration 5 Loss: {'ner': 8965.239768946476}\n",
            "Iteration 6 Loss: {'ner': 8350.109319847616}\n",
            "Iteration 7 Loss: {'ner': 7829.894639746408}\n",
            "Iteration 8 Loss: {'ner': 7469.593691022965}\n",
            "Iteration 9 Loss: {'ner': 7019.4537318757175}\n",
            "Iteration 10 Loss: {'ner': 6828.800997936601}\n",
            "Iteration 11 Loss: {'ner': 6464.9850941327195}\n",
            "Iteration 12 Loss: {'ner': 6156.509570491942}\n",
            "Iteration 13 Loss: {'ner': 5875.95028815788}\n",
            "Iteration 14 Loss: {'ner': 5673.428318202797}\n",
            "Iteration 15 Loss: {'ner': 5476.864998847019}\n",
            "Iteration 16 Loss: {'ner': 5349.528187562326}\n",
            "Iteration 17 Loss: {'ner': 5240.335472280065}\n",
            "Iteration 18 Loss: {'ner': 4833.666835736649}\n",
            "Iteration 19 Loss: {'ner': 4828.189895744993}\n",
            "Iteration 20 Loss: {'ner': 4664.655413110397}\n",
            "Iteration 21 Loss: {'ner': 4475.131395639426}\n",
            "Iteration 22 Loss: {'ner': 4479.183482301772}\n",
            "Iteration 23 Loss: {'ner': 4376.243665257027}\n",
            "Iteration 24 Loss: {'ner': 4284.637093917609}\n",
            "Iteration 25 Loss: {'ner': 4166.742169661804}\n",
            "Iteration 26 Loss: {'ner': 4005.574952493368}\n",
            "Iteration 27 Loss: {'ner': 4083.0106213452586}\n",
            "Iteration 28 Loss: {'ner': 3890.4889551699403}\n",
            "Iteration 29 Loss: {'ner': 3946.880415600046}\n",
            "Iteration 30 Loss: {'ner': 3846.8413503616853}\n",
            "Iteration 31 Loss: {'ner': 3744.5178682766223}\n",
            "Iteration 32 Loss: {'ner': 3612.420521098561}\n",
            "Iteration 33 Loss: {'ner': 3539.4976626131042}\n",
            "Iteration 34 Loss: {'ner': 3487.0766158130687}\n",
            "Iteration 35 Loss: {'ner': 3408.3853521077885}\n",
            "Iteration 36 Loss: {'ner': 3273.5435147811795}\n",
            "Iteration 37 Loss: {'ner': 3189.118866983036}\n",
            "Iteration 38 Loss: {'ner': 3184.5398320917666}\n",
            "Iteration 39 Loss: {'ner': 3063.4548277323256}\n",
            "Iteration 40 Loss: {'ner': 3129.470731048962}\n",
            "Iteration 41 Loss: {'ner': 3099.0133827055047}\n",
            "Iteration 42 Loss: {'ner': 2975.5309444802438}\n",
            "Iteration 43 Loss: {'ner': 3130.71573342818}\n",
            "Iteration 44 Loss: {'ner': 2994.551369672878}\n",
            "Iteration 45 Loss: {'ner': 2989.0899577861146}\n",
            "Iteration 46 Loss: {'ner': 2897.8297797412433}\n",
            "Iteration 47 Loss: {'ner': 2746.8186047859776}\n",
            "Iteration 48 Loss: {'ner': 2795.646823775086}\n",
            "Iteration 49 Loss: {'ner': 2742.371911344616}\n",
            "Iteration 50 Loss: {'ner': 2816.709260991077}\n",
            "Iteration 51 Loss: {'ner': 2739.366507033284}\n",
            "Iteration 52 Loss: {'ner': 2537.605287323724}\n",
            "Iteration 53 Loss: {'ner': 2632.567627066219}\n",
            "Iteration 54 Loss: {'ner': 2585.938696776164}\n",
            "Iteration 55 Loss: {'ner': 2529.4928637311273}\n",
            "Iteration 56 Loss: {'ner': 2531.4940739198323}\n",
            "Iteration 57 Loss: {'ner': 2497.4118398010996}\n",
            "Iteration 58 Loss: {'ner': 2385.923750117801}\n",
            "Iteration 59 Loss: {'ner': 2490.577062964629}\n",
            "Iteration 60 Loss: {'ner': 2510.296499565191}\n",
            "Iteration 61 Loss: {'ner': 2388.609711212844}\n",
            "Iteration 62 Loss: {'ner': 2316.283499135491}\n",
            "Iteration 63 Loss: {'ner': 2385.8952904790544}\n",
            "Iteration 64 Loss: {'ner': 2354.1975545683454}\n",
            "Iteration 65 Loss: {'ner': 2314.942697375994}\n",
            "Iteration 66 Loss: {'ner': 2333.933574017785}\n",
            "Iteration 67 Loss: {'ner': 2168.7516495475675}\n",
            "Iteration 68 Loss: {'ner': 2281.8757050448935}\n",
            "Iteration 69 Loss: {'ner': 2404.997544596088}\n",
            "Iteration 70 Loss: {'ner': 2102.733776426062}\n",
            "Iteration 71 Loss: {'ner': 2282.053924153599}\n",
            "Iteration 72 Loss: {'ner': 2227.2086879413378}\n",
            "Iteration 73 Loss: {'ner': 2189.025699498281}\n",
            "Iteration 74 Loss: {'ner': 2119.3327018815253}\n",
            "Iteration 75 Loss: {'ner': 2177.5800564257156}\n",
            "Iteration 76 Loss: {'ner': 2112.1369296366456}\n",
            "Iteration 77 Loss: {'ner': 2039.4008154073913}\n",
            "Iteration 78 Loss: {'ner': 2215.485922595683}\n",
            "Iteration 79 Loss: {'ner': 2218.38762271636}\n",
            "Iteration 80 Loss: {'ner': 2005.5424920195223}\n",
            "Iteration 81 Loss: {'ner': 1886.2629751488157}\n",
            "Iteration 82 Loss: {'ner': 1988.9347987327194}\n",
            "Iteration 83 Loss: {'ner': 2004.7605518757196}\n",
            "Iteration 84 Loss: {'ner': 1996.4316326112414}\n",
            "Iteration 85 Loss: {'ner': 2121.4098424249883}\n",
            "Iteration 86 Loss: {'ner': 2120.417131114686}\n",
            "Iteration 87 Loss: {'ner': 1865.1644417548023}\n",
            "Iteration 88 Loss: {'ner': 2018.645206049091}\n",
            "Iteration 89 Loss: {'ner': 1994.7077355557446}\n",
            "Iteration 90 Loss: {'ner': 1922.2396192906788}\n",
            "Iteration 91 Loss: {'ner': 2024.1875413232399}\n",
            "Iteration 92 Loss: {'ner': 1888.0344708325147}\n",
            "Iteration 93 Loss: {'ner': 1849.0113491402108}\n",
            "Iteration 94 Loss: {'ner': 1837.803919503171}\n",
            "Iteration 95 Loss: {'ner': 1763.3272868043236}\n",
            "Iteration 96 Loss: {'ner': 1772.2004793798092}\n",
            "Iteration 97 Loss: {'ner': 1888.4266965127022}\n",
            "Iteration 98 Loss: {'ner': 1965.9530483935516}\n",
            "Iteration 99 Loss: {'ner': 1728.7618491217947}\n",
            "Iteration 100 Loss: {'ner': 1815.1927911752473}\n",
            "Completed in 5900 seconds\n"
          ],
          "name": "stdout"
        },
        {
          "output_type": "stream",
          "text": [
            "/usr/local/lib/python3.7/dist-packages/spacy/language.py:900: ResourceWarning: unclosed file <_io.TextIOWrapper name='models/spacy_example/meta.json' mode='w' encoding='UTF-8'>\n",
            "  srsly.json_dumps(self.meta)\n",
            "ResourceWarning: Enable tracemalloc to get the object allocation traceback\n",
            "/usr/local/lib/python3.7/dist-packages/spacy/util.py:645: ResourceWarning: unclosed file <_io.BufferedWriter name='models/spacy_example/vocab/vectors'>\n",
            "  writer(path / key)\n",
            "ResourceWarning: Enable tracemalloc to get the object allocation traceback\n"
          ],
          "name": "stderr"
        }
      ]
    },
    {
      "cell_type": "code",
      "metadata": {
        "id": "f6doReSD-JsK"
      },
      "source": [
        ""
      ],
      "execution_count": null,
      "outputs": []
    },
    {
      "cell_type": "code",
      "metadata": {
        "colab": {
          "base_uri": "https://localhost:8080/"
        },
        "id": "Ax9ceOqK-KYl",
        "outputId": "6c6a46d2-335e-4921-b101-1a46171d93d5"
      },
      "source": [
        "# A simple decorator to log function processing time\r\n",
        "def timer(method):\r\n",
        "    def timed(*args, **kw):\r\n",
        "        ts = time.time()\r\n",
        "        result = method(*args, **kw)\r\n",
        "        te = time.time()\r\n",
        "        print(\"Completed in {} seconds\".format(int(te - ts)))\r\n",
        "        return result\r\n",
        "    return timed\r\n",
        "\r\n",
        "# Data must be of the form (sentence, {entities: [start, end, label]})\r\n",
        "@timer\r\n",
        "def train_spacy(train_data, labels, iterations, dropout = 0.2, display_freq = 1):\r\n",
        "    ''' Train a spacy NER model, which can be queried against with test data\r\n",
        "    train_data : training data in the format of (sentence, {entities: [(start, end, label)]})\r\n",
        "    labels : a list of unique annotations\r\n",
        "    iterations : number of training iterations\r\n",
        "    dropout : dropout proportion for training\r\n",
        "    display_freq : number of epochs between logging losses to console\r\n",
        "    '''\r\n",
        "    nlp = spacy.blank('en')\r\n",
        "    if 'ner' not in nlp.pipe_names:\r\n",
        "        ner = nlp.create_pipe('ner')\r\n",
        "        nlp.add_pipe(ner)\r\n",
        "# Add entity labels to the NER pipeline\r\n",
        "    for i in labels:\r\n",
        "        ner.add_label(i)\r\n",
        "# Disable other pipelines in SpaCy to only train NER\r\n",
        "    other_pipes = [pipe for pipe in nlp.pipe_names if pipe != 'ner']\r\n",
        "    with nlp.disable_pipes(*other_pipes):\r\n",
        "        nlp.vocab.vectors.name = 'spacy_model' # without this, spaCy throws an \"unnamed\" error\r\n",
        "        optimizer = nlp.begin_training()\r\n",
        "        for itr in range(iterations):\r\n",
        "            random.shuffle(train_data) # shuffle the training data before each iteration\r\n",
        "            losses = {}\r\n",
        "            batches = minibatch(train_data, size = compounding(4., 32., 1.001))\r\n",
        "            for batch in batches:\r\n",
        "                texts, annotations = zip(*batch)\r\n",
        "                nlp.update(\r\n",
        "                    texts,\r\n",
        "                    annotations,\r\n",
        "                    drop = dropout,\r\n",
        "                    sgd = optimizer,\r\n",
        "                    losses = losses)\r\n",
        "            if itr % display_freq == 0:\r\n",
        "                print(\"Iteration {} Loss: {}\".format(itr + 1, losses))\r\n",
        "    return nlp\r\n",
        "# Train (and save) the NER model\r\n",
        "ner = train_spacy(TRAIN_DATA, LABELS,200)\r\n",
        "ner.to_disk(\"models/spacy_example1\")\r\n"
      ],
      "execution_count": 38,
      "outputs": [
        {
          "output_type": "stream",
          "text": [
            "Iteration 1 Loss: {'ner': 19076.38994675261}\n",
            "Iteration 2 Loss: {'ner': 12897.316180109501}\n",
            "Iteration 3 Loss: {'ner': 10812.334467485482}\n",
            "Iteration 4 Loss: {'ner': 9878.649360656258}\n",
            "Iteration 5 Loss: {'ner': 8987.8496806427}\n",
            "Iteration 6 Loss: {'ner': 8343.796290468683}\n",
            "Iteration 7 Loss: {'ner': 7799.15513548945}\n",
            "Iteration 8 Loss: {'ner': 7459.061170550009}\n",
            "Iteration 9 Loss: {'ner': 7171.142972891082}\n",
            "Iteration 10 Loss: {'ner': 6727.372489516799}\n",
            "Iteration 11 Loss: {'ner': 6450.344118799424}\n",
            "Iteration 12 Loss: {'ner': 6224.211203536101}\n",
            "Iteration 13 Loss: {'ner': 5991.623590730215}\n",
            "Iteration 14 Loss: {'ner': 5767.829354063505}\n",
            "Iteration 15 Loss: {'ner': 5556.949960908982}\n",
            "Iteration 16 Loss: {'ner': 5384.634951897915}\n",
            "Iteration 17 Loss: {'ner': 5152.585385215953}\n",
            "Iteration 18 Loss: {'ner': 5047.356772117138}\n",
            "Iteration 19 Loss: {'ner': 4919.51008677528}\n",
            "Iteration 20 Loss: {'ner': 4805.203350892454}\n",
            "Iteration 21 Loss: {'ner': 4650.888518856238}\n",
            "Iteration 22 Loss: {'ner': 4516.028444899915}\n",
            "Iteration 23 Loss: {'ner': 4367.779126057095}\n",
            "Iteration 24 Loss: {'ner': 4378.731985739427}\n",
            "Iteration 25 Loss: {'ner': 4203.568875643915}\n",
            "Iteration 26 Loss: {'ner': 4068.541499309387}\n",
            "Iteration 27 Loss: {'ner': 4040.1699074219405}\n",
            "Iteration 28 Loss: {'ner': 3780.1675909771784}\n",
            "Iteration 29 Loss: {'ner': 3683.4157719345844}\n",
            "Iteration 30 Loss: {'ner': 3849.5195581017583}\n",
            "Iteration 31 Loss: {'ner': 3628.5383467400716}\n",
            "Iteration 32 Loss: {'ner': 3606.961500126124}\n",
            "Iteration 33 Loss: {'ner': 3573.2155500312456}\n",
            "Iteration 34 Loss: {'ner': 3463.0635205235258}\n",
            "Iteration 35 Loss: {'ner': 3452.3594613831515}\n",
            "Iteration 36 Loss: {'ner': 3262.945295681221}\n",
            "Iteration 37 Loss: {'ner': 3303.3120100508827}\n",
            "Iteration 38 Loss: {'ner': 3134.714915931112}\n",
            "Iteration 39 Loss: {'ner': 3114.7200860645394}\n",
            "Iteration 40 Loss: {'ner': 3348.5693689377513}\n",
            "Iteration 41 Loss: {'ner': 3113.072240010621}\n",
            "Iteration 42 Loss: {'ner': 2933.2324305090874}\n",
            "Iteration 43 Loss: {'ner': 3085.4107400741673}\n",
            "Iteration 44 Loss: {'ner': 2975.784670036448}\n",
            "Iteration 45 Loss: {'ner': 2817.9224434657617}\n",
            "Iteration 46 Loss: {'ner': 2798.4976662405693}\n",
            "Iteration 47 Loss: {'ner': 2786.150033625421}\n",
            "Iteration 48 Loss: {'ner': 2750.576944672635}\n",
            "Iteration 49 Loss: {'ner': 2790.589426964256}\n",
            "Iteration 50 Loss: {'ner': 2820.0089952455464}\n",
            "Iteration 51 Loss: {'ner': 2546.4810688971766}\n",
            "Iteration 52 Loss: {'ner': 2579.4036586650477}\n",
            "Iteration 53 Loss: {'ner': 2594.564757119378}\n",
            "Iteration 54 Loss: {'ner': 2439.6507348342952}\n",
            "Iteration 55 Loss: {'ner': 2458.7667367074123}\n",
            "Iteration 56 Loss: {'ner': 2533.5807069904845}\n",
            "Iteration 57 Loss: {'ner': 2425.6466355516163}\n",
            "Iteration 58 Loss: {'ner': 2456.0014142813543}\n",
            "Iteration 59 Loss: {'ner': 2435.318485038965}\n",
            "Iteration 60 Loss: {'ner': 2489.41168696918}\n",
            "Iteration 61 Loss: {'ner': 2485.8498538003023}\n",
            "Iteration 62 Loss: {'ner': 2317.5486517136937}\n",
            "Iteration 63 Loss: {'ner': 2306.1770986898127}\n",
            "Iteration 64 Loss: {'ner': 2278.5378734762007}\n",
            "Iteration 65 Loss: {'ner': 2301.8775031939103}\n",
            "Iteration 66 Loss: {'ner': 2271.673269219332}\n",
            "Iteration 67 Loss: {'ner': 2305.339130819429}\n",
            "Iteration 68 Loss: {'ner': 2306.3223096385814}\n",
            "Iteration 69 Loss: {'ner': 2238.298645899484}\n",
            "Iteration 70 Loss: {'ner': 2240.6785768848795}\n",
            "Iteration 71 Loss: {'ner': 2231.426672505192}\n",
            "Iteration 72 Loss: {'ner': 2243.3090732670476}\n",
            "Iteration 73 Loss: {'ner': 2116.6704304400164}\n",
            "Iteration 74 Loss: {'ner': 2161.703407092461}\n",
            "Iteration 75 Loss: {'ner': 2038.559406526978}\n",
            "Iteration 76 Loss: {'ner': 2104.5473630627775}\n",
            "Iteration 77 Loss: {'ner': 2074.0718227022667}\n",
            "Iteration 78 Loss: {'ner': 2101.7753481732566}\n",
            "Iteration 79 Loss: {'ner': 1941.5509634638302}\n",
            "Iteration 80 Loss: {'ner': 1979.4761051805508}\n",
            "Iteration 81 Loss: {'ner': 1919.6355052996496}\n",
            "Iteration 82 Loss: {'ner': 2062.114543983907}\n",
            "Iteration 83 Loss: {'ner': 1946.4791717673488}\n",
            "Iteration 84 Loss: {'ner': 1977.183378667601}\n",
            "Iteration 85 Loss: {'ner': 1979.9810885578665}\n",
            "Iteration 86 Loss: {'ner': 1961.8390966430613}\n",
            "Iteration 87 Loss: {'ner': 2053.4526346253892}\n",
            "Iteration 88 Loss: {'ner': 1946.1509905869345}\n",
            "Iteration 89 Loss: {'ner': 2068.5707531365197}\n",
            "Iteration 90 Loss: {'ner': 2014.6355549403593}\n",
            "Iteration 91 Loss: {'ner': 1979.514478777315}\n",
            "Iteration 92 Loss: {'ner': 1930.864752594437}\n",
            "Iteration 93 Loss: {'ner': 1767.2890991069696}\n",
            "Iteration 94 Loss: {'ner': 1849.1222588180683}\n",
            "Iteration 95 Loss: {'ner': 1852.6729575721797}\n",
            "Iteration 96 Loss: {'ner': 1792.4824567593403}\n",
            "Iteration 97 Loss: {'ner': 1771.2540168862138}\n",
            "Iteration 98 Loss: {'ner': 1751.895107176092}\n",
            "Iteration 99 Loss: {'ner': 1838.0945287609836}\n",
            "Iteration 100 Loss: {'ner': 1789.5771053542117}\n",
            "Iteration 101 Loss: {'ner': 1849.0272356171795}\n",
            "Iteration 102 Loss: {'ner': 1652.8248161810632}\n",
            "Iteration 103 Loss: {'ner': 1666.924899935589}\n",
            "Iteration 104 Loss: {'ner': 1771.5625602592322}\n",
            "Iteration 105 Loss: {'ner': 1717.281059778681}\n",
            "Iteration 106 Loss: {'ner': 1732.6466919595373}\n",
            "Iteration 107 Loss: {'ner': 1748.393293716885}\n",
            "Iteration 108 Loss: {'ner': 1629.892378669947}\n",
            "Iteration 109 Loss: {'ner': 1738.2418614810792}\n",
            "Iteration 110 Loss: {'ner': 1840.16930874091}\n",
            "Iteration 111 Loss: {'ner': 1698.3677853144038}\n",
            "Iteration 112 Loss: {'ner': 1817.42664005746}\n",
            "Iteration 113 Loss: {'ner': 1622.4110315176183}\n",
            "Iteration 114 Loss: {'ner': 1710.5074831454667}\n",
            "Iteration 115 Loss: {'ner': 1600.1259945110728}\n",
            "Iteration 116 Loss: {'ner': 1655.0162962793481}\n",
            "Iteration 117 Loss: {'ner': 1634.2778304724336}\n",
            "Iteration 118 Loss: {'ner': 1634.1424018967484}\n",
            "Iteration 119 Loss: {'ner': 1749.7661389543637}\n",
            "Iteration 120 Loss: {'ner': 1656.808094661524}\n",
            "Iteration 121 Loss: {'ner': 1610.7357113375328}\n",
            "Iteration 122 Loss: {'ner': 1643.6280963209338}\n",
            "Iteration 123 Loss: {'ner': 1625.207748816483}\n",
            "Iteration 124 Loss: {'ner': 1609.5704300694467}\n",
            "Iteration 125 Loss: {'ner': 1646.3364075026923}\n",
            "Iteration 126 Loss: {'ner': 1645.5050338464189}\n",
            "Iteration 127 Loss: {'ner': 1573.2571826384633}\n",
            "Iteration 128 Loss: {'ner': 1442.543406396043}\n",
            "Iteration 129 Loss: {'ner': 1567.9369978478353}\n",
            "Iteration 130 Loss: {'ner': 1524.6273117494236}\n",
            "Iteration 131 Loss: {'ner': 1647.8547438452658}\n",
            "Iteration 132 Loss: {'ner': 1498.8027632936328}\n",
            "Iteration 133 Loss: {'ner': 1641.2659818867955}\n",
            "Iteration 134 Loss: {'ner': 1557.500548873599}\n",
            "Iteration 135 Loss: {'ner': 1453.627924392626}\n",
            "Iteration 136 Loss: {'ner': 1499.8254385460377}\n",
            "Iteration 137 Loss: {'ner': 1680.621490949375}\n",
            "Iteration 138 Loss: {'ner': 1614.0480679056564}\n",
            "Iteration 139 Loss: {'ner': 1564.3315696972338}\n",
            "Iteration 140 Loss: {'ner': 1477.9884446757667}\n",
            "Iteration 141 Loss: {'ner': 1491.7143126369247}\n",
            "Iteration 142 Loss: {'ner': 1525.500096716856}\n",
            "Iteration 143 Loss: {'ner': 1527.8374237773098}\n",
            "Iteration 144 Loss: {'ner': 1472.7963361495772}\n",
            "Iteration 145 Loss: {'ner': 1492.4452294782172}\n",
            "Iteration 146 Loss: {'ner': 1443.9496610733838}\n",
            "Iteration 147 Loss: {'ner': 1491.311820296743}\n",
            "Iteration 148 Loss: {'ner': 1602.9470468480984}\n",
            "Iteration 149 Loss: {'ner': 1509.8475911478108}\n",
            "Iteration 150 Loss: {'ner': 1551.8248957922956}\n",
            "Iteration 151 Loss: {'ner': 1408.9955058352982}\n",
            "Iteration 152 Loss: {'ner': 1504.5991802967744}\n",
            "Iteration 153 Loss: {'ner': 1453.1777290836626}\n",
            "Iteration 154 Loss: {'ner': 1424.9380489543576}\n",
            "Iteration 155 Loss: {'ner': 1449.933660719712}\n",
            "Iteration 156 Loss: {'ner': 1407.3603956285046}\n",
            "Iteration 157 Loss: {'ner': 1389.4358602901511}\n",
            "Iteration 158 Loss: {'ner': 1537.047113395327}\n",
            "Iteration 159 Loss: {'ner': 1399.5497191945606}\n",
            "Iteration 160 Loss: {'ner': 1482.991262775104}\n",
            "Iteration 161 Loss: {'ner': 1365.7635413934293}\n",
            "Iteration 162 Loss: {'ner': 1491.1522870309984}\n",
            "Iteration 163 Loss: {'ner': 1437.3377410489284}\n",
            "Iteration 164 Loss: {'ner': 1369.3082462047978}\n",
            "Iteration 165 Loss: {'ner': 1368.4522627399936}\n",
            "Iteration 166 Loss: {'ner': 1399.8425026327495}\n",
            "Iteration 167 Loss: {'ner': 1502.3419530281903}\n",
            "Iteration 168 Loss: {'ner': 1329.6989794107424}\n",
            "Iteration 169 Loss: {'ner': 1316.717280954407}\n",
            "Iteration 170 Loss: {'ner': 1362.7832221694782}\n",
            "Iteration 171 Loss: {'ner': 1308.6947986507803}\n",
            "Iteration 172 Loss: {'ner': 1421.9277932895125}\n",
            "Iteration 173 Loss: {'ner': 1292.6802803027522}\n",
            "Iteration 174 Loss: {'ner': 1300.8305509719282}\n",
            "Iteration 175 Loss: {'ner': 1359.1090613763358}\n",
            "Iteration 176 Loss: {'ner': 1448.5065569952899}\n",
            "Iteration 177 Loss: {'ner': 1399.9402310135154}\n",
            "Iteration 178 Loss: {'ner': 1435.779606361321}\n",
            "Iteration 179 Loss: {'ner': 1323.156749174324}\n",
            "Iteration 180 Loss: {'ner': 1374.801077683561}\n",
            "Iteration 181 Loss: {'ner': 1278.0840155029812}\n",
            "Iteration 182 Loss: {'ner': 1314.154491948439}\n",
            "Iteration 183 Loss: {'ner': 1356.4419801831436}\n",
            "Iteration 184 Loss: {'ner': 1332.5043358555197}\n",
            "Iteration 185 Loss: {'ner': 1335.7829286321967}\n",
            "Iteration 186 Loss: {'ner': 1282.6298020694833}\n",
            "Iteration 187 Loss: {'ner': 1319.5753869025814}\n",
            "Iteration 188 Loss: {'ner': 1346.5002603247517}\n",
            "Iteration 189 Loss: {'ner': 1314.1888986278782}\n",
            "Iteration 190 Loss: {'ner': 1292.7346393431062}\n",
            "Iteration 191 Loss: {'ner': 1218.9684487783093}\n",
            "Iteration 192 Loss: {'ner': 1249.893982739953}\n",
            "Iteration 193 Loss: {'ner': 1262.7066280178346}\n",
            "Iteration 194 Loss: {'ner': 1213.2135081506362}\n",
            "Iteration 195 Loss: {'ner': 1279.7702086578847}\n",
            "Iteration 196 Loss: {'ner': 1253.4014197208032}\n",
            "Iteration 197 Loss: {'ner': 1406.606725084399}\n",
            "Iteration 198 Loss: {'ner': 1285.3040436167007}\n",
            "Iteration 199 Loss: {'ner': 1313.1209303945736}\n",
            "Iteration 200 Loss: {'ner': 1377.0556485189318}\n",
            "Completed in 12115 seconds\n"
          ],
          "name": "stdout"
        },
        {
          "output_type": "stream",
          "text": [
            "/usr/local/lib/python3.7/dist-packages/spacy/language.py:900: ResourceWarning: unclosed file <_io.TextIOWrapper name='models/spacy_example1/meta.json' mode='w' encoding='UTF-8'>\n",
            "  srsly.json_dumps(self.meta)\n",
            "ResourceWarning: Enable tracemalloc to get the object allocation traceback\n",
            "/usr/local/lib/python3.7/dist-packages/spacy/util.py:645: ResourceWarning: unclosed file <_io.BufferedWriter name='models/spacy_example1/vocab/vectors'>\n",
            "  writer(path / key)\n",
            "ResourceWarning: Enable tracemalloc to get the object allocation traceback\n"
          ],
          "name": "stderr"
        }
      ]
    },
    {
      "cell_type": "code",
      "metadata": {
        "colab": {
          "base_uri": "https://localhost:8080/",
          "height": 540
        },
        "id": "2eDo4B6wVgnz",
        "outputId": "d7a1096e-5dc5-4a2e-f78d-255f27407f6f"
      },
      "source": [
        "from spacy import displacy\r\n",
        "\r\n",
        "def load_model(model_path):\r\n",
        "    ''' Loads a pre-trained model for prediction on new test sentences\r\n",
        "    model_path : directory of model saved by spacy.to_disk\r\n",
        "    '''\r\n",
        "    nlp = spacy.blank('en')\r\n",
        "    if 'ner' not in nlp.pipe_names:\r\n",
        "        ner = nlp.create_pipe('ner')\r\n",
        "        nlp.add_pipe(ner)\r\n",
        "    ner = nlp.from_disk(model_path)\r\n",
        "    return ner\r\n",
        "ner = load_model(\"models/spacy_example1\")\r\n",
        "\r\n",
        "TEST_DATA, _ = load_data_spacy(\"data/test.txt\")\r\n",
        "\r\n",
        "test_sentences = [x[0] for x in TEST_DATA[0:15]] # extract the sentences from [sentence, entity]\r\n",
        "for x in test_sentences:\r\n",
        "    doc = ner(x)\r\n",
        "    displacy.render(doc, jupyter = True, style = \"ent\")\r\n"
      ],
      "execution_count": 40,
      "outputs": [
        {
          "output_type": "display_data",
          "data": {
            "text/html": [
              "<span class=\"tex2jax_ignore\"><div class=\"entities\" style=\"line-height: 2.5; direction: ltr\">are there any \n",
              "<mark class=\"entity\" style=\"background: #ddd; padding: 0.45em 0.6em; margin: 0 0.25em; line-height: 1; border-radius: 0.35em;\">\n",
              "    good\n",
              "    <span style=\"font-size: 0.8em; font-weight: bold; line-height: 1; border-radius: 0.35em; text-transform: uppercase; vertical-align: middle; margin-left: 0.5rem\">RATINGS_AVERAGE</span>\n",
              "</mark>\n",
              " \n",
              "<mark class=\"entity\" style=\"background: #ddd; padding: 0.45em 0.6em; margin: 0 0.25em; line-height: 1; border-radius: 0.35em;\">\n",
              "    romantic comedies\n",
              "    <span style=\"font-size: 0.8em; font-weight: bold; line-height: 1; border-radius: 0.35em; text-transform: uppercase; vertical-align: middle; margin-left: 0.5rem\">GENRE</span>\n",
              "</mark>\n",
              " out right now</div></span>"
            ],
            "text/plain": [
              "<IPython.core.display.HTML object>"
            ]
          },
          "metadata": {
            "tags": []
          }
        },
        {
          "output_type": "display_data",
          "data": {
            "text/html": [
              "<span class=\"tex2jax_ignore\"><div class=\"entities\" style=\"line-height: 2.5; direction: ltr\">show me a movie about \n",
              "<mark class=\"entity\" style=\"background: #ddd; padding: 0.45em 0.6em; margin: 0 0.25em; line-height: 1; border-radius: 0.35em;\">\n",
              "    cars\n",
              "    <span style=\"font-size: 0.8em; font-weight: bold; line-height: 1; border-radius: 0.35em; text-transform: uppercase; vertical-align: middle; margin-left: 0.5rem\">PLOT</span>\n",
              "</mark>\n",
              " that talk</div></span>"
            ],
            "text/plain": [
              "<IPython.core.display.HTML object>"
            ]
          },
          "metadata": {
            "tags": []
          }
        },
        {
          "output_type": "display_data",
          "data": {
            "text/html": [
              "<span class=\"tex2jax_ignore\"><div class=\"entities\" style=\"line-height: 2.5; direction: ltr\">list the \n",
              "<mark class=\"entity\" style=\"background: #ddd; padding: 0.45em 0.6em; margin: 0 0.25em; line-height: 1; border-radius: 0.35em;\">\n",
              "    five\n",
              "    <span style=\"font-size: 0.8em; font-weight: bold; line-height: 1; border-radius: 0.35em; text-transform: uppercase; vertical-align: middle; margin-left: 0.5rem\">RATINGS_AVERAGE</span>\n",
              "</mark>\n",
              " star rated movies starring \n",
              "<mark class=\"entity\" style=\"background: #ddd; padding: 0.45em 0.6em; margin: 0 0.25em; line-height: 1; border-radius: 0.35em;\">\n",
              "    mel gibson\n",
              "    <span style=\"font-size: 0.8em; font-weight: bold; line-height: 1; border-radius: 0.35em; text-transform: uppercase; vertical-align: middle; margin-left: 0.5rem\">ACTOR</span>\n",
              "</mark>\n",
              "</div></span>"
            ],
            "text/plain": [
              "<IPython.core.display.HTML object>"
            ]
          },
          "metadata": {
            "tags": []
          }
        },
        {
          "output_type": "display_data",
          "data": {
            "text/html": [
              "<span class=\"tex2jax_ignore\"><div class=\"entities\" style=\"line-height: 2.5; direction: ltr\">what \n",
              "<mark class=\"entity\" style=\"background: #ddd; padding: 0.45em 0.6em; margin: 0 0.25em; line-height: 1; border-radius: 0.35em;\">\n",
              "    science fiction\n",
              "    <span style=\"font-size: 0.8em; font-weight: bold; line-height: 1; border-radius: 0.35em; text-transform: uppercase; vertical-align: middle; margin-left: 0.5rem\">GENRE</span>\n",
              "</mark>\n",
              " films have come out recently</div></span>"
            ],
            "text/plain": [
              "<IPython.core.display.HTML object>"
            ]
          },
          "metadata": {
            "tags": []
          }
        },
        {
          "output_type": "display_data",
          "data": {
            "text/html": [
              "<span class=\"tex2jax_ignore\"><div class=\"entities\" style=\"line-height: 2.5; direction: ltr\">did the same director make all of the \n",
              "<mark class=\"entity\" style=\"background: #ddd; padding: 0.45em 0.6em; margin: 0 0.25em; line-height: 1; border-radius: 0.35em;\">\n",
              "    harry potter\n",
              "    <span style=\"font-size: 0.8em; font-weight: bold; line-height: 1; border-radius: 0.35em; text-transform: uppercase; vertical-align: middle; margin-left: 0.5rem\">TITLE</span>\n",
              "</mark>\n",
              " movies</div></span>"
            ],
            "text/plain": [
              "<IPython.core.display.HTML object>"
            ]
          },
          "metadata": {
            "tags": []
          }
        },
        {
          "output_type": "display_data",
          "data": {
            "text/html": [
              "<span class=\"tex2jax_ignore\"><div class=\"entities\" style=\"line-height: 2.5; direction: ltr\">show me \n",
              "<mark class=\"entity\" style=\"background: #ddd; padding: 0.45em 0.6em; margin: 0 0.25em; line-height: 1; border-radius: 0.35em;\">\n",
              "    1980s\n",
              "    <span style=\"font-size: 0.8em; font-weight: bold; line-height: 1; border-radius: 0.35em; text-transform: uppercase; vertical-align: middle; margin-left: 0.5rem\">YEAR</span>\n",
              "</mark>\n",
              " \n",
              "<mark class=\"entity\" style=\"background: #ddd; padding: 0.45em 0.6em; margin: 0 0.25em; line-height: 1; border-radius: 0.35em;\">\n",
              "    action\n",
              "    <span style=\"font-size: 0.8em; font-weight: bold; line-height: 1; border-radius: 0.35em; text-transform: uppercase; vertical-align: middle; margin-left: 0.5rem\">GENRE</span>\n",
              "</mark>\n",
              " movies</div></span>"
            ],
            "text/plain": [
              "<IPython.core.display.HTML object>"
            ]
          },
          "metadata": {
            "tags": []
          }
        },
        {
          "output_type": "display_data",
          "data": {
            "text/html": [
              "<span class=\"tex2jax_ignore\"><div class=\"entities\" style=\"line-height: 2.5; direction: ltr\">what is the name of the third movie in the \n",
              "<mark class=\"entity\" style=\"background: #ddd; padding: 0.45em 0.6em; margin: 0 0.25em; line-height: 1; border-radius: 0.35em;\">\n",
              "    star trek series\n",
              "    <span style=\"font-size: 0.8em; font-weight: bold; line-height: 1; border-radius: 0.35em; text-transform: uppercase; vertical-align: middle; margin-left: 0.5rem\">TITLE</span>\n",
              "</mark>\n",
              "</div></span>"
            ],
            "text/plain": [
              "<IPython.core.display.HTML object>"
            ]
          },
          "metadata": {
            "tags": []
          }
        },
        {
          "output_type": "display_data",
          "data": {
            "text/html": [
              "<span class=\"tex2jax_ignore\"><div class=\"entities\" style=\"line-height: 2.5; direction: ltr\">can you get a soundtrac for the \n",
              "<mark class=\"entity\" style=\"background: #ddd; padding: 0.45em 0.6em; margin: 0 0.25em; line-height: 1; border-radius: 0.35em;\">\n",
              "    harry potter\n",
              "    <span style=\"font-size: 0.8em; font-weight: bold; line-height: 1; border-radius: 0.35em; text-transform: uppercase; vertical-align: middle; margin-left: 0.5rem\">TITLE</span>\n",
              "</mark>\n",
              " films</div></span>"
            ],
            "text/plain": [
              "<IPython.core.display.HTML object>"
            ]
          },
          "metadata": {
            "tags": []
          }
        },
        {
          "output_type": "display_data",
          "data": {
            "text/html": [
              "<span class=\"tex2jax_ignore\"><div class=\"entities\" style=\"line-height: 2.5; direction: ltr\">find me \n",
              "<mark class=\"entity\" style=\"background: #ddd; padding: 0.45em 0.6em; margin: 0 0.25em; line-height: 1; border-radius: 0.35em;\">\n",
              "    science fiction\n",
              "    <span style=\"font-size: 0.8em; font-weight: bold; line-height: 1; border-radius: 0.35em; text-transform: uppercase; vertical-align: middle; margin-left: 0.5rem\">GENRE</span>\n",
              "</mark>\n",
              " movies \n",
              "<mark class=\"entity\" style=\"background: #ddd; padding: 0.45em 0.6em; margin: 0 0.25em; line-height: 1; border-radius: 0.35em;\">\n",
              "    since 2005\n",
              "    <span style=\"font-size: 0.8em; font-weight: bold; line-height: 1; border-radius: 0.35em; text-transform: uppercase; vertical-align: middle; margin-left: 0.5rem\">YEAR</span>\n",
              "</mark>\n",
              "</div></span>"
            ],
            "text/plain": [
              "<IPython.core.display.HTML object>"
            ]
          },
          "metadata": {
            "tags": []
          }
        },
        {
          "output_type": "display_data",
          "data": {
            "text/html": [
              "<span class=\"tex2jax_ignore\"><div class=\"entities\" style=\"line-height: 2.5; direction: ltr\">what is the \n",
              "<mark class=\"entity\" style=\"background: #ddd; padding: 0.45em 0.6em; margin: 0 0.25em; line-height: 1; border-radius: 0.35em;\">\n",
              "    most current movie\n",
              "    <span style=\"font-size: 0.8em; font-weight: bold; line-height: 1; border-radius: 0.35em; text-transform: uppercase; vertical-align: middle; margin-left: 0.5rem\">YEAR</span>\n",
              "</mark>\n",
              " featuring \n",
              "<mark class=\"entity\" style=\"background: #ddd; padding: 0.45em 0.6em; margin: 0 0.25em; line-height: 1; border-radius: 0.35em;\">\n",
              "    mat damon\n",
              "    <span style=\"font-size: 0.8em; font-weight: bold; line-height: 1; border-radius: 0.35em; text-transform: uppercase; vertical-align: middle; margin-left: 0.5rem\">ACTOR</span>\n",
              "</mark>\n",
              "</div></span>"
            ],
            "text/plain": [
              "<IPython.core.display.HTML object>"
            ]
          },
          "metadata": {
            "tags": []
          }
        },
        {
          "output_type": "display_data",
          "data": {
            "text/html": [
              "<span class=\"tex2jax_ignore\"><div class=\"entities\" style=\"line-height: 2.5; direction: ltr\">show me films where \n",
              "<mark class=\"entity\" style=\"background: #ddd; padding: 0.45em 0.6em; margin: 0 0.25em; line-height: 1; border-radius: 0.35em;\">\n",
              "    jim carrey\n",
              "    <span style=\"font-size: 0.8em; font-weight: bold; line-height: 1; border-radius: 0.35em; text-transform: uppercase; vertical-align: middle; margin-left: 0.5rem\">ACTOR</span>\n",
              "</mark>\n",
              " is a \n",
              "<mark class=\"entity\" style=\"background: #ddd; padding: 0.45em 0.6em; margin: 0 0.25em; line-height: 1; border-radius: 0.35em;\">\n",
              "    detective\n",
              "    <span style=\"font-size: 0.8em; font-weight: bold; line-height: 1; border-radius: 0.35em; text-transform: uppercase; vertical-align: middle; margin-left: 0.5rem\">PLOT</span>\n",
              "</mark>\n",
              "</div></span>"
            ],
            "text/plain": [
              "<IPython.core.display.HTML object>"
            ]
          },
          "metadata": {
            "tags": []
          }
        },
        {
          "output_type": "display_data",
          "data": {
            "text/html": [
              "<span class=\"tex2jax_ignore\"><div class=\"entities\" style=\"line-height: 2.5; direction: ltr\">did \n",
              "<mark class=\"entity\" style=\"background: #ddd; padding: 0.45em 0.6em; margin: 0 0.25em; line-height: 1; border-radius: 0.35em;\">\n",
              "    george clooney\n",
              "    <span style=\"font-size: 0.8em; font-weight: bold; line-height: 1; border-radius: 0.35em; text-transform: uppercase; vertical-align: middle; margin-left: 0.5rem\">ACTOR</span>\n",
              "</mark>\n",
              " make a \n",
              "<mark class=\"entity\" style=\"background: #ddd; padding: 0.45em 0.6em; margin: 0 0.25em; line-height: 1; border-radius: 0.35em;\">\n",
              "    musical\n",
              "    <span style=\"font-size: 0.8em; font-weight: bold; line-height: 1; border-radius: 0.35em; text-transform: uppercase; vertical-align: middle; margin-left: 0.5rem\">GENRE</span>\n",
              "</mark>\n",
              " in the \n",
              "<mark class=\"entity\" style=\"background: #ddd; padding: 0.45em 0.6em; margin: 0 0.25em; line-height: 1; border-radius: 0.35em;\">\n",
              "    1980s\n",
              "    <span style=\"font-size: 0.8em; font-weight: bold; line-height: 1; border-radius: 0.35em; text-transform: uppercase; vertical-align: middle; margin-left: 0.5rem\">YEAR</span>\n",
              "</mark>\n",
              "</div></span>"
            ],
            "text/plain": [
              "<IPython.core.display.HTML object>"
            ]
          },
          "metadata": {
            "tags": []
          }
        },
        {
          "output_type": "display_data",
          "data": {
            "text/html": [
              "<span class=\"tex2jax_ignore\"><div class=\"entities\" style=\"line-height: 2.5; direction: ltr\">show me films with both \n",
              "<mark class=\"entity\" style=\"background: #ddd; padding: 0.45em 0.6em; margin: 0 0.25em; line-height: 1; border-radius: 0.35em;\">\n",
              "    matt damon\n",
              "    <span style=\"font-size: 0.8em; font-weight: bold; line-height: 1; border-radius: 0.35em; text-transform: uppercase; vertical-align: middle; margin-left: 0.5rem\">ACTOR</span>\n",
              "</mark>\n",
              " ad \n",
              "<mark class=\"entity\" style=\"background: #ddd; padding: 0.45em 0.6em; margin: 0 0.25em; line-height: 1; border-radius: 0.35em;\">\n",
              "    ben affleck\n",
              "    <span style=\"font-size: 0.8em; font-weight: bold; line-height: 1; border-radius: 0.35em; text-transform: uppercase; vertical-align: middle; margin-left: 0.5rem\">ACTOR</span>\n",
              "</mark>\n",
              "</div></span>"
            ],
            "text/plain": [
              "<IPython.core.display.HTML object>"
            ]
          },
          "metadata": {
            "tags": []
          }
        },
        {
          "output_type": "display_data",
          "data": {
            "text/html": [
              "<span class=\"tex2jax_ignore\"><div class=\"entities\" style=\"line-height: 2.5; direction: ltr\">what is \n",
              "<mark class=\"entity\" style=\"background: #ddd; padding: 0.45em 0.6em; margin: 0 0.25em; line-height: 1; border-radius: 0.35em;\">\n",
              "    the borrowers\n",
              "    <span style=\"font-size: 0.8em; font-weight: bold; line-height: 1; border-radius: 0.35em; text-transform: uppercase; vertical-align: middle; margin-left: 0.5rem\">TITLE</span>\n",
              "</mark>\n",
              " movie</div></span>"
            ],
            "text/plain": [
              "<IPython.core.display.HTML object>"
            ]
          },
          "metadata": {
            "tags": []
          }
        },
        {
          "output_type": "display_data",
          "data": {
            "text/html": [
              "<span class=\"tex2jax_ignore\"><div class=\"entities\" style=\"line-height: 2.5; direction: ltr\">have u movie \n",
              "<mark class=\"entity\" style=\"background: #ddd; padding: 0.45em 0.6em; margin: 0 0.25em; line-height: 1; border-radius: 0.35em;\">\n",
              "    hm\n",
              "    <span style=\"font-size: 0.8em; font-weight: bold; line-height: 1; border-radius: 0.35em; text-transform: uppercase; vertical-align: middle; margin-left: 0.5rem\">TITLE</span>\n",
              "</mark>\n",
              " about to \n",
              "<mark class=\"entity\" style=\"background: #ddd; padding: 0.45em 0.6em; margin: 0 0.25em; line-height: 1; border-radius: 0.35em;\">\n",
              "    pg 18\n",
              "    <span style=\"font-size: 0.8em; font-weight: bold; line-height: 1; border-radius: 0.35em; text-transform: uppercase; vertical-align: middle; margin-left: 0.5rem\">RATING</span>\n",
              "</mark>\n",
              "</div></span>"
            ],
            "text/plain": [
              "<IPython.core.display.HTML object>"
            ]
          },
          "metadata": {
            "tags": []
          }
        }
      ]
    },
    {
      "cell_type": "code",
      "metadata": {
        "id": "qF-k4UrUxxwE"
      },
      "source": [
        "def calc_precision(pred, true):\r\n",
        "    precision = len([x for x in pred if x in true]) / (len(pred) + 1e-20) # true positives / total pred\r\n",
        "    return precision\r\n",
        "\r\n",
        "def calc_recall(pred, true):\r\n",
        "    recall = len([x for x in true if x in pred]) / (len(true) + 1e-20)# true positives / total test\r\n",
        "    return recall\r\n",
        "\r\n",
        "def calc_f1(precision, recall):\r\n",
        "    f1 = 2 * ((precision * recall) / (precision + recall + 1e-20))\r\n",
        "    return f1\r\n"
      ],
      "execution_count": 41,
      "outputs": []
    },
    {
      "cell_type": "code",
      "metadata": {
        "colab": {
          "base_uri": "https://localhost:8080/"
        },
        "id": "K-iZVr3ay9HR",
        "outputId": "3ca59d86-bc6b-4b6a-f199-a580f1c5f1e7"
      },
      "source": [
        "from itertools import chain\r\n",
        "\r\n",
        "# run the predictions on each sentence in the test dataset, and return the spacy object\r\n",
        "preds = [ner(x[0]) for x in TEST_DATA]\r\n",
        "\r\n",
        "precisions, recalls, f1s = [], [], []\r\n",
        "\r\n",
        "# iterate over predictions and test data and calculate precision, recall, and F1-score\r\n",
        "for pred, true in zip(preds, TEST_DATA):\r\n",
        "    true = [x[2] for x in list(chain.from_iterable(true[1].values()))] # x[2] = annotation, true[1] = (start, end, annot)\r\n",
        "    pred = [i.label_ for i in pred.ents] # i.label_ = annotation label, pred.ents = list of annotations\r\n",
        "    precision = calc_precision(true, pred)\r\n",
        "    precisions.append(precision)\r\n",
        "    recall = calc_recall(true, pred)\r\n",
        "    recalls.append(recall)\r\n",
        "    f1s.append(calc_f1(precision, recall))\r\n",
        "\r\n",
        "print(\"Precision: {} \\nRecall: {} \\nF1-score: {}\".format(np.around(np.mean(precisions), 3),np.around(np.mean(recalls), 3),np.around(np.mean(f1s), 3)))\r\n"
      ],
      "execution_count": 42,
      "outputs": [
        {
          "output_type": "stream",
          "text": [
            "Precision: 0.892 \n",
            "Recall: 0.889 \n",
            "F1-score: 0.882\n"
          ],
          "name": "stdout"
        }
      ]
    },
    {
      "cell_type": "code",
      "metadata": {
        "id": "d-OwjmtezNNW"
      },
      "source": [
        ""
      ],
      "execution_count": null,
      "outputs": []
    }
  ]
}